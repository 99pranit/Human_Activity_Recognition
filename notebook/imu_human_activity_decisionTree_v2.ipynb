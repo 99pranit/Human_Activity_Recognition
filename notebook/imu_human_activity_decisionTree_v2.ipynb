{
 "cells": [
  {
   "cell_type": "markdown",
   "metadata": {},
   "source": [
    "## Import Libraries"
   ]
  },
  {
   "cell_type": "code",
   "execution_count": 1,
   "metadata": {},
   "outputs": [],
   "source": [
    "import pandas as pd\n",
    "import numpy as np\n",
    "from sklearn.preprocessing import MinMaxScaler , LabelEncoder\n",
    "from sklearn.model_selection import train_test_split , RandomizedSearchCV , GridSearchCV\n",
    "from sklearn.tree import DecisionTreeClassifier\n",
    "from sklearn.metrics import classification_report\n",
    "import m2cgen\n",
    "import os\n",
    "import matplotlib.pyplot as plt\n",
    "import joblib\n",
    "from xgboost import XGBClassifier\n",
    "pd.set_option('display.max_columns', None)  # Show all columns\n",
    "pd.set_option('display.max_rows', None)  # Show all rows\n",
    "pd.set_option('display.max_colwidth', None)  # Show full content in each cell\n",
    "pd.set_option('display.width', 1000)  # Set max width"
   ]
  },
  {
   "cell_type": "markdown",
   "metadata": {},
   "source": [
    "Activity Mapper:\n",
    "\n",
    "0 : walking\n",
    "1 : jogging\n",
    "2 : upstairs\n",
    "3 : downstairs\n",
    "4 : sitting\n",
    "5 : standing\n",
    "6 : sleeping"
   ]
  },
  {
   "cell_type": "markdown",
   "metadata": {},
   "source": [
    "## Load Data"
   ]
  },
  {
   "cell_type": "code",
   "execution_count": 2,
   "metadata": {},
   "outputs": [],
   "source": [
    "dataset_path = os.getcwd().replace('/notebook' , '') + \"/dataset/\"\n",
    "\n",
    "# Read training data\n",
    "imu_df1 = pd.read_csv(dataset_path + \"imu_data.csv\")\n",
    "imu_df2 = pd.read_csv(dataset_path + \"imu_data_v2.csv\")\n",
    "imu_df1 = imu_df1.iloc[:,1:]\n",
    "imu_df2 = imu_df2.iloc[:,1:]\n",
    "imu_df2 = imu_df2.drop(columns = (imu_df2.iloc[:,12:16]).columns , axis= 1)\n",
    "imu_df1.columns = imu_df1.columns.str.replace(\"'\" , \"\")\n",
    "imu_df2.columns = imu_df2.columns.str.replace(\"'\" , \"\")\n",
    "\n",
    "imu_df = pd.concat([imu_df1, imu_df2] , axis= 0)"
   ]
  },
  {
   "cell_type": "code",
   "execution_count": 3,
   "metadata": {},
   "outputs": [],
   "source": [
    "imu_df.columns = imu_df.columns.str.replace(\"'\" , \"\")\n",
    "x = imu_df.iloc[:,:-1]\n",
    "y = imu_df.iloc[:,-1]"
   ]
  },
  {
   "cell_type": "code",
   "execution_count": 4,
   "metadata": {},
   "outputs": [
    {
     "data": {
      "text/plain": [
       "Index(['attitude.roll', ' attitude.pitch', ' attitude.yaw', ' gravity.x', ' gravity.y', ' gravity.z', ' rotationRate.x', ' rotationRate.y', ' rotationRate.z', ' userAcceleration.x', ' userAcceleration.y', ' userAcceleration.z'], dtype='object')"
      ]
     },
     "execution_count": 4,
     "metadata": {},
     "output_type": "execute_result"
    }
   ],
   "source": [
    "x.columns"
   ]
  },
  {
   "cell_type": "markdown",
   "metadata": {},
   "source": [
    "# Modeling"
   ]
  },
  {
   "cell_type": "markdown",
   "metadata": {},
   "source": [
    "## Motion Classification"
   ]
  },
  {
   "cell_type": "code",
   "execution_count": 5,
   "metadata": {},
   "outputs": [],
   "source": [
    "\"\"\"\n",
    "Map\n",
    "0 - steady motion,\n",
    "1 - unsteady motion\n",
    "\"\"\"\n",
    "mapper = {\n",
    "    0 : 1,\n",
    "    1 : 1,\n",
    "    2 : 1,\n",
    "    3 : 1,\n",
    "    4 : 0,\n",
    "    5 : 0,\n",
    "    6 : 0\n",
    "}"
   ]
  },
  {
   "cell_type": "code",
   "execution_count": 6,
   "metadata": {},
   "outputs": [],
   "source": [
    "motion_y = y.map(mapper)\n",
    "\n",
    "x1, x_test , y1 , y_test = train_test_split(x ,motion_y ,test_size= 0.2, stratify = y)\n",
    "\n",
    "x_train , x_val , y_train , y_val = train_test_split(x1 ,y1 ,test_size= 0.2, stratify = y1)"
   ]
  },
  {
   "cell_type": "markdown",
   "metadata": {},
   "source": [
    "### Modelling"
   ]
  },
  {
   "cell_type": "code",
   "execution_count": 7,
   "metadata": {},
   "outputs": [
    {
     "data": {
      "text/html": [
       "<div>\n",
       "<style scoped>\n",
       "    .dataframe tbody tr th:only-of-type {\n",
       "        vertical-align: middle;\n",
       "    }\n",
       "\n",
       "    .dataframe tbody tr th {\n",
       "        vertical-align: top;\n",
       "    }\n",
       "\n",
       "    .dataframe thead th {\n",
       "        text-align: right;\n",
       "    }\n",
       "</style>\n",
       "<table border=\"1\" class=\"dataframe\">\n",
       "  <thead>\n",
       "    <tr style=\"text-align: right;\">\n",
       "      <th></th>\n",
       "      <th>mean_test_score</th>\n",
       "      <th>params</th>\n",
       "    </tr>\n",
       "  </thead>\n",
       "  <tbody>\n",
       "    <tr>\n",
       "      <th>11</th>\n",
       "      <td>0.965757</td>\n",
       "      <td>{'criterion': 'entropy', 'max_depth': 10}</td>\n",
       "    </tr>\n",
       "    <tr>\n",
       "      <th>5</th>\n",
       "      <td>0.964569</td>\n",
       "      <td>{'criterion': 'gini', 'max_depth': 10}</td>\n",
       "    </tr>\n",
       "    <tr>\n",
       "      <th>4</th>\n",
       "      <td>0.963253</td>\n",
       "      <td>{'criterion': 'gini', 'max_depth': 8}</td>\n",
       "    </tr>\n",
       "    <tr>\n",
       "      <th>10</th>\n",
       "      <td>0.961987</td>\n",
       "      <td>{'criterion': 'entropy', 'max_depth': 8}</td>\n",
       "    </tr>\n",
       "    <tr>\n",
       "      <th>3</th>\n",
       "      <td>0.955041</td>\n",
       "      <td>{'criterion': 'gini', 'max_depth': 6}</td>\n",
       "    </tr>\n",
       "    <tr>\n",
       "      <th>9</th>\n",
       "      <td>0.952177</td>\n",
       "      <td>{'criterion': 'entropy', 'max_depth': 6}</td>\n",
       "    </tr>\n",
       "    <tr>\n",
       "      <th>2</th>\n",
       "      <td>0.933852</td>\n",
       "      <td>{'criterion': 'gini', 'max_depth': 4}</td>\n",
       "    </tr>\n",
       "    <tr>\n",
       "      <th>8</th>\n",
       "      <td>0.933414</td>\n",
       "      <td>{'criterion': 'entropy', 'max_depth': 4}</td>\n",
       "    </tr>\n",
       "    <tr>\n",
       "      <th>1</th>\n",
       "      <td>0.893813</td>\n",
       "      <td>{'criterion': 'gini', 'max_depth': 3}</td>\n",
       "    </tr>\n",
       "    <tr>\n",
       "      <th>7</th>\n",
       "      <td>0.887617</td>\n",
       "      <td>{'criterion': 'entropy', 'max_depth': 3}</td>\n",
       "    </tr>\n",
       "    <tr>\n",
       "      <th>0</th>\n",
       "      <td>0.837826</td>\n",
       "      <td>{'criterion': 'gini', 'max_depth': 2}</td>\n",
       "    </tr>\n",
       "    <tr>\n",
       "      <th>6</th>\n",
       "      <td>0.833452</td>\n",
       "      <td>{'criterion': 'entropy', 'max_depth': 2}</td>\n",
       "    </tr>\n",
       "  </tbody>\n",
       "</table>\n",
       "</div>"
      ],
      "text/plain": [
       "    mean_test_score                                     params\n",
       "11         0.965757  {'criterion': 'entropy', 'max_depth': 10}\n",
       "5          0.964569     {'criterion': 'gini', 'max_depth': 10}\n",
       "4          0.963253      {'criterion': 'gini', 'max_depth': 8}\n",
       "10         0.961987   {'criterion': 'entropy', 'max_depth': 8}\n",
       "3          0.955041      {'criterion': 'gini', 'max_depth': 6}\n",
       "9          0.952177   {'criterion': 'entropy', 'max_depth': 6}\n",
       "2          0.933852      {'criterion': 'gini', 'max_depth': 4}\n",
       "8          0.933414   {'criterion': 'entropy', 'max_depth': 4}\n",
       "1          0.893813      {'criterion': 'gini', 'max_depth': 3}\n",
       "7          0.887617   {'criterion': 'entropy', 'max_depth': 3}\n",
       "0          0.837826      {'criterion': 'gini', 'max_depth': 2}\n",
       "6          0.833452   {'criterion': 'entropy', 'max_depth': 2}"
      ]
     },
     "execution_count": 7,
     "metadata": {},
     "output_type": "execute_result"
    }
   ],
   "source": [
    "dt = DecisionTreeClassifier()\n",
    "\n",
    "param_dist = {\n",
    "    'max_depth' : [2 , 3 , 4 , 6 , 8 , 10],\n",
    "    'criterion' : ['gini', 'entropy']\n",
    "    }\n",
    "\n",
    "random_search = GridSearchCV(estimator = dt,\n",
    "                            param_grid = param_dist,\n",
    "                            cv = 5,\n",
    "                            n_jobs=-1\n",
    "                            )\n",
    "random_search.fit(x_train, y_train)\n",
    "\n",
    "cv_results = pd.DataFrame(random_search.cv_results_)\n",
    "cv_results = cv_results[[\"mean_test_score\", \"params\"]].sort_values(by=\"mean_test_score\", ascending=False)\n",
    "\n",
    "cv_results "
   ]
  },
  {
   "cell_type": "code",
   "execution_count": 8,
   "metadata": {},
   "outputs": [
    {
     "name": "stdout",
     "output_type": "stream",
     "text": [
      "              precision    recall  f1-score   support\n",
      "\n",
      "           0       0.96      0.96      0.96     11030\n",
      "           1       0.97      0.97      0.97     14633\n",
      "\n",
      "    accuracy                           0.97     25663\n",
      "   macro avg       0.97      0.97      0.97     25663\n",
      "weighted avg       0.97      0.97      0.97     25663\n",
      "\n"
     ]
    }
   ],
   "source": [
    "dt = DecisionTreeClassifier(max_depth = 10 , criterion= 'entropy')\n",
    "dt.fit(x_train , y_train)\n",
    "dt.score(x_val , y_val)\n",
    "dt_report = classification_report(dt.predict(x_val) , y_val)\n",
    "print(dt_report)"
   ]
  },
  {
   "cell_type": "code",
   "execution_count": 9,
   "metadata": {},
   "outputs": [
    {
     "name": "stdout",
     "output_type": "stream",
     "text": [
      "              precision    recall  f1-score   support\n",
      "\n",
      "           0       0.97      0.97      0.97     44149\n",
      "           1       0.98      0.98      0.98     58500\n",
      "\n",
      "    accuracy                           0.97    102649\n",
      "   macro avg       0.97      0.97      0.97    102649\n",
      "weighted avg       0.97      0.97      0.97    102649\n",
      "\n"
     ]
    }
   ],
   "source": [
    "dt_train_report = classification_report(dt.predict(x_train) , y_train)\n",
    "print(dt_train_report)"
   ]
  },
  {
   "cell_type": "code",
   "execution_count": 10,
   "metadata": {},
   "outputs": [
    {
     "name": "stdout",
     "output_type": "stream",
     "text": [
      "              precision    recall  f1-score   support\n",
      "\n",
      "           0       0.96      0.96      0.96     13771\n",
      "           1       0.97      0.97      0.97     18307\n",
      "\n",
      "    accuracy                           0.97     32078\n",
      "   macro avg       0.97      0.97      0.97     32078\n",
      "weighted avg       0.97      0.97      0.97     32078\n",
      "\n"
     ]
    }
   ],
   "source": [
    "dt_test_report = classification_report(dt.predict(x_test) , y_test)\n",
    "print(dt_test_report)"
   ]
  },
  {
   "cell_type": "code",
   "execution_count": 11,
   "metadata": {},
   "outputs": [
    {
     "name": "stdout",
     "output_type": "stream",
     "text": [
      "64995\n"
     ]
    }
   ],
   "source": [
    "with open(os.getcwd().replace('/notebook' , '') + \"/model/motion_model.py\" , \"w\") as f:\n",
    "  f.write(m2cgen.export_to_python(dt))\n",
    "print(os.path.getsize(os.getcwd().replace('/notebook' , '') + \"/model/motion_model.py\" ))"
   ]
  },
  {
   "cell_type": "markdown",
   "metadata": {},
   "source": [
    "## Steady Movement Classification"
   ]
  },
  {
   "cell_type": "code",
   "execution_count": 12,
   "metadata": {},
   "outputs": [],
   "source": [
    "steady_df  =imu_df[(imu_df['Target'] == 4) | (imu_df['Target'] == 5) | (imu_df['Target'] == 6)]\n",
    "x = steady_df.iloc[:,:-1]\n",
    "y = steady_df.iloc[:,-1]\n",
    "\n",
    "x1, x_test , y1 , y_test = train_test_split(x , y ,test_size= 0.2, stratify = y)\n",
    "\n",
    "x_train , x_val , y_train , y_val = train_test_split(x1 ,y1 ,test_size= 0.2, stratify = y1)"
   ]
  },
  {
   "cell_type": "markdown",
   "metadata": {},
   "source": [
    "### Modelling"
   ]
  },
  {
   "cell_type": "code",
   "execution_count": 13,
   "metadata": {},
   "outputs": [
    {
     "data": {
      "text/html": [
       "<div>\n",
       "<style scoped>\n",
       "    .dataframe tbody tr th:only-of-type {\n",
       "        vertical-align: middle;\n",
       "    }\n",
       "\n",
       "    .dataframe tbody tr th {\n",
       "        vertical-align: top;\n",
       "    }\n",
       "\n",
       "    .dataframe thead th {\n",
       "        text-align: right;\n",
       "    }\n",
       "</style>\n",
       "<table border=\"1\" class=\"dataframe\">\n",
       "  <thead>\n",
       "    <tr style=\"text-align: right;\">\n",
       "      <th></th>\n",
       "      <th>mean_test_score</th>\n",
       "      <th>params</th>\n",
       "    </tr>\n",
       "  </thead>\n",
       "  <tbody>\n",
       "    <tr>\n",
       "      <th>5</th>\n",
       "      <td>0.896620</td>\n",
       "      <td>{'criterion': 'gini', 'max_depth': 10}</td>\n",
       "    </tr>\n",
       "    <tr>\n",
       "      <th>11</th>\n",
       "      <td>0.891467</td>\n",
       "      <td>{'criterion': 'entropy', 'max_depth': 10}</td>\n",
       "    </tr>\n",
       "    <tr>\n",
       "      <th>10</th>\n",
       "      <td>0.871217</td>\n",
       "      <td>{'criterion': 'entropy', 'max_depth': 8}</td>\n",
       "    </tr>\n",
       "    <tr>\n",
       "      <th>4</th>\n",
       "      <td>0.868675</td>\n",
       "      <td>{'criterion': 'gini', 'max_depth': 8}</td>\n",
       "    </tr>\n",
       "    <tr>\n",
       "      <th>3</th>\n",
       "      <td>0.825089</td>\n",
       "      <td>{'criterion': 'gini', 'max_depth': 6}</td>\n",
       "    </tr>\n",
       "    <tr>\n",
       "      <th>9</th>\n",
       "      <td>0.790447</td>\n",
       "      <td>{'criterion': 'entropy', 'max_depth': 6}</td>\n",
       "    </tr>\n",
       "    <tr>\n",
       "      <th>2</th>\n",
       "      <td>0.785113</td>\n",
       "      <td>{'criterion': 'gini', 'max_depth': 5}</td>\n",
       "    </tr>\n",
       "    <tr>\n",
       "      <th>8</th>\n",
       "      <td>0.759733</td>\n",
       "      <td>{'criterion': 'entropy', 'max_depth': 5}</td>\n",
       "    </tr>\n",
       "    <tr>\n",
       "      <th>7</th>\n",
       "      <td>0.703185</td>\n",
       "      <td>{'criterion': 'entropy', 'max_depth': 4}</td>\n",
       "    </tr>\n",
       "    <tr>\n",
       "      <th>1</th>\n",
       "      <td>0.694581</td>\n",
       "      <td>{'criterion': 'gini', 'max_depth': 4}</td>\n",
       "    </tr>\n",
       "    <tr>\n",
       "      <th>0</th>\n",
       "      <td>0.667272</td>\n",
       "      <td>{'criterion': 'gini', 'max_depth': 3}</td>\n",
       "    </tr>\n",
       "    <tr>\n",
       "      <th>6</th>\n",
       "      <td>0.613493</td>\n",
       "      <td>{'criterion': 'entropy', 'max_depth': 3}</td>\n",
       "    </tr>\n",
       "  </tbody>\n",
       "</table>\n",
       "</div>"
      ],
      "text/plain": [
       "    mean_test_score                                     params\n",
       "5          0.896620     {'criterion': 'gini', 'max_depth': 10}\n",
       "11         0.891467  {'criterion': 'entropy', 'max_depth': 10}\n",
       "10         0.871217   {'criterion': 'entropy', 'max_depth': 8}\n",
       "4          0.868675      {'criterion': 'gini', 'max_depth': 8}\n",
       "3          0.825089      {'criterion': 'gini', 'max_depth': 6}\n",
       "9          0.790447   {'criterion': 'entropy', 'max_depth': 6}\n",
       "2          0.785113      {'criterion': 'gini', 'max_depth': 5}\n",
       "8          0.759733   {'criterion': 'entropy', 'max_depth': 5}\n",
       "7          0.703185   {'criterion': 'entropy', 'max_depth': 4}\n",
       "1          0.694581      {'criterion': 'gini', 'max_depth': 4}\n",
       "0          0.667272      {'criterion': 'gini', 'max_depth': 3}\n",
       "6          0.613493   {'criterion': 'entropy', 'max_depth': 3}"
      ]
     },
     "execution_count": 13,
     "metadata": {},
     "output_type": "execute_result"
    }
   ],
   "source": [
    "dt = DecisionTreeClassifier()\n",
    "\n",
    "param_dist = {\n",
    "    'max_depth' : [3 , 4 , 5 , 6 , 8 , 10],\n",
    "    'criterion' : ['gini', 'entropy']\n",
    "    }\n",
    "\n",
    "random_search = GridSearchCV(estimator = dt,\n",
    "                            param_grid = param_dist,\n",
    "                            cv = 5,\n",
    "                            n_jobs=-1\n",
    "                            )\n",
    "random_search.fit(x_train, y_train)\n",
    "\n",
    "cv_results = pd.DataFrame(random_search.cv_results_)\n",
    "cv_results = cv_results[[\"mean_test_score\", \"params\"]].sort_values(by=\"mean_test_score\", ascending=False)\n",
    "\n",
    "cv_results "
   ]
  },
  {
   "cell_type": "code",
   "execution_count": 14,
   "metadata": {},
   "outputs": [
    {
     "name": "stdout",
     "output_type": "stream",
     "text": [
      "              precision    recall  f1-score   support\n",
      "\n",
      "           4       0.86      0.88      0.87      3581\n",
      "           5       0.87      0.86      0.86      3738\n",
      "           6       0.97      0.95      0.96      3694\n",
      "\n",
      "    accuracy                           0.90     11013\n",
      "   macro avg       0.90      0.90      0.90     11013\n",
      "weighted avg       0.90      0.90      0.90     11013\n",
      "\n"
     ]
    }
   ],
   "source": [
    "dt = DecisionTreeClassifier(max_depth = 10 , criterion= 'gini')\n",
    "dt.fit(x_train , y_train)\n",
    "dt.score(x_val , y_val)\n",
    "dt_report = classification_report(dt.predict(x_val) , y_val)\n",
    "print(dt_report)"
   ]
  },
  {
   "cell_type": "code",
   "execution_count": 15,
   "metadata": {},
   "outputs": [
    {
     "name": "stdout",
     "output_type": "stream",
     "text": [
      "              precision    recall  f1-score   support\n",
      "\n",
      "           4       0.89      0.91      0.90     14395\n",
      "           5       0.90      0.90      0.90     14783\n",
      "           6       0.98      0.96      0.97     14873\n",
      "\n",
      "    accuracy                           0.92     44051\n",
      "   macro avg       0.92      0.92      0.92     44051\n",
      "weighted avg       0.92      0.92      0.92     44051\n",
      "\n"
     ]
    }
   ],
   "source": [
    "dt_train_report = classification_report(dt.predict(x_train) , y_train)\n",
    "print(dt_train_report)"
   ]
  },
  {
   "cell_type": "code",
   "execution_count": 16,
   "metadata": {},
   "outputs": [
    {
     "name": "stdout",
     "output_type": "stream",
     "text": [
      "              precision    recall  f1-score   support\n",
      "\n",
      "           4       0.86      0.88      0.87      4487\n",
      "           5       0.86      0.86      0.86      4616\n",
      "           6       0.97      0.95      0.96      4663\n",
      "\n",
      "    accuracy                           0.90     13766\n",
      "   macro avg       0.90      0.90      0.90     13766\n",
      "weighted avg       0.90      0.90      0.90     13766\n",
      "\n"
     ]
    }
   ],
   "source": [
    "dt_test_report = classification_report(dt.predict(x_test) , y_test)\n",
    "print(dt_test_report)"
   ]
  },
  {
   "cell_type": "code",
   "execution_count": 17,
   "metadata": {},
   "outputs": [
    {
     "name": "stdout",
     "output_type": "stream",
     "text": [
      "91529\n"
     ]
    }
   ],
   "source": [
    "with open(os.getcwd().replace('/notebook' , '') + \"/model/steady_model.py\" , \"w\") as f:\n",
    "  f.write(m2cgen.export_to_python(dt))\n",
    "print(os.path.getsize(os.getcwd().replace('/notebook' , '') + \"/model/steady_model.py\" ))"
   ]
  },
  {
   "cell_type": "markdown",
   "metadata": {},
   "source": [
    "## Unsteady Movement Classification"
   ]
  },
  {
   "cell_type": "code",
   "execution_count": 18,
   "metadata": {},
   "outputs": [],
   "source": [
    "unsteady_df  =imu_df[(imu_df['Target'] != 4) & (imu_df['Target'] != 5) & (imu_df['Target'] != 6)]\n",
    "x = unsteady_df.iloc[:,:-1]\n",
    "y = unsteady_df.iloc[:,-1]"
   ]
  },
  {
   "cell_type": "markdown",
   "metadata": {},
   "source": [
    "## Unsteady Motion Classification"
   ]
  },
  {
   "cell_type": "code",
   "execution_count": 19,
   "metadata": {},
   "outputs": [],
   "source": [
    "\"\"\"\n",
    "Map\n",
    "0 - surface motion,\n",
    "1 - staircase motion\n",
    "\"\"\"\n",
    "mapper = {\n",
    "    0 : 0,\n",
    "    1 : 0,\n",
    "    2 : 1,\n",
    "    3 : 1\n",
    "}"
   ]
  },
  {
   "cell_type": "code",
   "execution_count": 20,
   "metadata": {},
   "outputs": [],
   "source": [
    "unsteady_motion_y = y.map(mapper)\n",
    "\n",
    "x1, x_test , y1 , y_test = train_test_split(x ,unsteady_motion_y ,test_size= 0.2, stratify = y)\n",
    "\n",
    "x_train , x_val , y_train , y_val = train_test_split(x1 ,y1 ,test_size= 0.2, stratify = y1)"
   ]
  },
  {
   "cell_type": "markdown",
   "metadata": {},
   "source": [
    "### Modelling"
   ]
  },
  {
   "cell_type": "code",
   "execution_count": 21,
   "metadata": {},
   "outputs": [
    {
     "data": {
      "text/html": [
       "<div>\n",
       "<style scoped>\n",
       "    .dataframe tbody tr th:only-of-type {\n",
       "        vertical-align: middle;\n",
       "    }\n",
       "\n",
       "    .dataframe tbody tr th {\n",
       "        vertical-align: top;\n",
       "    }\n",
       "\n",
       "    .dataframe thead th {\n",
       "        text-align: right;\n",
       "    }\n",
       "</style>\n",
       "<table border=\"1\" class=\"dataframe\">\n",
       "  <thead>\n",
       "    <tr style=\"text-align: right;\">\n",
       "      <th></th>\n",
       "      <th>mean_test_score</th>\n",
       "      <th>params</th>\n",
       "    </tr>\n",
       "  </thead>\n",
       "  <tbody>\n",
       "    <tr>\n",
       "      <th>5</th>\n",
       "      <td>0.848288</td>\n",
       "      <td>{'criterion': 'gini', 'max_depth': 10}</td>\n",
       "    </tr>\n",
       "    <tr>\n",
       "      <th>11</th>\n",
       "      <td>0.844244</td>\n",
       "      <td>{'criterion': 'entropy', 'max_depth': 10}</td>\n",
       "    </tr>\n",
       "    <tr>\n",
       "      <th>4</th>\n",
       "      <td>0.836360</td>\n",
       "      <td>{'criterion': 'gini', 'max_depth': 8}</td>\n",
       "    </tr>\n",
       "    <tr>\n",
       "      <th>10</th>\n",
       "      <td>0.829141</td>\n",
       "      <td>{'criterion': 'entropy', 'max_depth': 8}</td>\n",
       "    </tr>\n",
       "    <tr>\n",
       "      <th>3</th>\n",
       "      <td>0.821291</td>\n",
       "      <td>{'criterion': 'gini', 'max_depth': 7}</td>\n",
       "    </tr>\n",
       "    <tr>\n",
       "      <th>9</th>\n",
       "      <td>0.816052</td>\n",
       "      <td>{'criterion': 'entropy', 'max_depth': 7}</td>\n",
       "    </tr>\n",
       "    <tr>\n",
       "      <th>2</th>\n",
       "      <td>0.788627</td>\n",
       "      <td>{'criterion': 'gini', 'max_depth': 6}</td>\n",
       "    </tr>\n",
       "    <tr>\n",
       "      <th>8</th>\n",
       "      <td>0.784924</td>\n",
       "      <td>{'criterion': 'entropy', 'max_depth': 6}</td>\n",
       "    </tr>\n",
       "    <tr>\n",
       "      <th>1</th>\n",
       "      <td>0.749309</td>\n",
       "      <td>{'criterion': 'gini', 'max_depth': 5}</td>\n",
       "    </tr>\n",
       "    <tr>\n",
       "      <th>7</th>\n",
       "      <td>0.745503</td>\n",
       "      <td>{'criterion': 'entropy', 'max_depth': 5}</td>\n",
       "    </tr>\n",
       "    <tr>\n",
       "      <th>0</th>\n",
       "      <td>0.701270</td>\n",
       "      <td>{'criterion': 'gini', 'max_depth': 4}</td>\n",
       "    </tr>\n",
       "    <tr>\n",
       "      <th>6</th>\n",
       "      <td>0.700246</td>\n",
       "      <td>{'criterion': 'entropy', 'max_depth': 4}</td>\n",
       "    </tr>\n",
       "  </tbody>\n",
       "</table>\n",
       "</div>"
      ],
      "text/plain": [
       "    mean_test_score                                     params\n",
       "5          0.848288     {'criterion': 'gini', 'max_depth': 10}\n",
       "11         0.844244  {'criterion': 'entropy', 'max_depth': 10}\n",
       "4          0.836360      {'criterion': 'gini', 'max_depth': 8}\n",
       "10         0.829141   {'criterion': 'entropy', 'max_depth': 8}\n",
       "3          0.821291      {'criterion': 'gini', 'max_depth': 7}\n",
       "9          0.816052   {'criterion': 'entropy', 'max_depth': 7}\n",
       "2          0.788627      {'criterion': 'gini', 'max_depth': 6}\n",
       "8          0.784924   {'criterion': 'entropy', 'max_depth': 6}\n",
       "1          0.749309      {'criterion': 'gini', 'max_depth': 5}\n",
       "7          0.745503   {'criterion': 'entropy', 'max_depth': 5}\n",
       "0          0.701270      {'criterion': 'gini', 'max_depth': 4}\n",
       "6          0.700246   {'criterion': 'entropy', 'max_depth': 4}"
      ]
     },
     "execution_count": 21,
     "metadata": {},
     "output_type": "execute_result"
    }
   ],
   "source": [
    "dt = DecisionTreeClassifier()\n",
    "\n",
    "param_dist = {\n",
    "    'max_depth' : [4 , 5 , 6 , 7 , 8 , 10],\n",
    "    'criterion' : ['gini', 'entropy']\n",
    "    }\n",
    "\n",
    "random_search = GridSearchCV(estimator = dt,\n",
    "                            param_grid = param_dist,\n",
    "                            cv = 5,\n",
    "                            n_jobs=-1\n",
    "                            )\n",
    "random_search.fit(x_train, y_train)\n",
    "\n",
    "cv_results = pd.DataFrame(random_search.cv_results_)\n",
    "cv_results = cv_results[[\"mean_test_score\", \"params\"]].sort_values(by=\"mean_test_score\", ascending=False)\n",
    "\n",
    "cv_results "
   ]
  },
  {
   "cell_type": "code",
   "execution_count": 22,
   "metadata": {},
   "outputs": [
    {
     "name": "stdout",
     "output_type": "stream",
     "text": [
      "              precision    recall  f1-score   support\n",
      "\n",
      "           0       0.85      0.87      0.86      7883\n",
      "           1       0.84      0.83      0.84      6767\n",
      "\n",
      "    accuracy                           0.85     14650\n",
      "   macro avg       0.85      0.85      0.85     14650\n",
      "weighted avg       0.85      0.85      0.85     14650\n",
      "\n"
     ]
    }
   ],
   "source": [
    "dt = DecisionTreeClassifier(max_depth = 10 , criterion= 'gini')\n",
    "dt.fit(x_train , y_train)\n",
    "dt.score(x_val , y_val)\n",
    "dt_report = classification_report(dt.predict(x_val) , y_val)\n",
    "print(dt_report)"
   ]
  },
  {
   "cell_type": "code",
   "execution_count": 23,
   "metadata": {},
   "outputs": [
    {
     "name": "stdout",
     "output_type": "stream",
     "text": [
      "              precision    recall  f1-score   support\n",
      "\n",
      "           0       0.88      0.89      0.89     31818\n",
      "           1       0.87      0.86      0.86     26780\n",
      "\n",
      "    accuracy                           0.88     58598\n",
      "   macro avg       0.88      0.87      0.88     58598\n",
      "weighted avg       0.88      0.88      0.88     58598\n",
      "\n"
     ]
    }
   ],
   "source": [
    "dt_train_report = classification_report(dt.predict(x_train) , y_train)\n",
    "print(dt_train_report)"
   ]
  },
  {
   "cell_type": "code",
   "execution_count": 24,
   "metadata": {},
   "outputs": [
    {
     "name": "stdout",
     "output_type": "stream",
     "text": [
      "              precision    recall  f1-score   support\n",
      "\n",
      "           0       0.86      0.87      0.86      9951\n",
      "           1       0.84      0.83      0.84      8361\n",
      "\n",
      "    accuracy                           0.85     18312\n",
      "   macro avg       0.85      0.85      0.85     18312\n",
      "weighted avg       0.85      0.85      0.85     18312\n",
      "\n"
     ]
    }
   ],
   "source": [
    "dt_test_report = classification_report(dt.predict(x_test) , y_test)\n",
    "print(dt_test_report)"
   ]
  },
  {
   "cell_type": "code",
   "execution_count": 25,
   "metadata": {},
   "outputs": [
    {
     "name": "stdout",
     "output_type": "stream",
     "text": [
      "98054\n"
     ]
    }
   ],
   "source": [
    "with open(os.getcwd().replace('/notebook' , '') + \"/model/unsteady_model.py\" , \"w\") as f:\n",
    "  f.write(m2cgen.export_to_python(dt))\n",
    "print(os.path.getsize(os.getcwd().replace('/notebook' , '') + \"/model/unsteady_model.py\" ))"
   ]
  },
  {
   "cell_type": "markdown",
   "metadata": {},
   "source": [
    "## Staircase motion"
   ]
  },
  {
   "cell_type": "code",
   "execution_count": 26,
   "metadata": {},
   "outputs": [],
   "source": [
    "staircase_df  =imu_df[(imu_df['Target'] == 1) | (imu_df['Target'] == 2)]\n",
    "x = staircase_df.iloc[:,:-1]\n",
    "y = staircase_df.iloc[:,-1]\n",
    "\n",
    "x1, x_test , y1 , y_test = train_test_split(x , y ,test_size= 0.2, stratify = y)\n",
    "\n",
    "x_train , x_val , y_train , y_val = train_test_split(x1 ,y1 ,test_size= 0.2, stratify = y1)"
   ]
  },
  {
   "cell_type": "markdown",
   "metadata": {},
   "source": [
    "### Modelling"
   ]
  },
  {
   "cell_type": "code",
   "execution_count": 27,
   "metadata": {},
   "outputs": [
    {
     "data": {
      "text/html": [
       "<div>\n",
       "<style scoped>\n",
       "    .dataframe tbody tr th:only-of-type {\n",
       "        vertical-align: middle;\n",
       "    }\n",
       "\n",
       "    .dataframe tbody tr th {\n",
       "        vertical-align: top;\n",
       "    }\n",
       "\n",
       "    .dataframe thead th {\n",
       "        text-align: right;\n",
       "    }\n",
       "</style>\n",
       "<table border=\"1\" class=\"dataframe\">\n",
       "  <thead>\n",
       "    <tr style=\"text-align: right;\">\n",
       "      <th></th>\n",
       "      <th>mean_test_score</th>\n",
       "      <th>params</th>\n",
       "    </tr>\n",
       "  </thead>\n",
       "  <tbody>\n",
       "    <tr>\n",
       "      <th>5</th>\n",
       "      <td>0.920234</td>\n",
       "      <td>{'criterion': 'gini', 'max_depth': 10}</td>\n",
       "    </tr>\n",
       "    <tr>\n",
       "      <th>11</th>\n",
       "      <td>0.918753</td>\n",
       "      <td>{'criterion': 'entropy', 'max_depth': 10}</td>\n",
       "    </tr>\n",
       "    <tr>\n",
       "      <th>4</th>\n",
       "      <td>0.907962</td>\n",
       "      <td>{'criterion': 'gini', 'max_depth': 8}</td>\n",
       "    </tr>\n",
       "    <tr>\n",
       "      <th>10</th>\n",
       "      <td>0.904965</td>\n",
       "      <td>{'criterion': 'entropy', 'max_depth': 8}</td>\n",
       "    </tr>\n",
       "    <tr>\n",
       "      <th>3</th>\n",
       "      <td>0.896467</td>\n",
       "      <td>{'criterion': 'gini', 'max_depth': 7}</td>\n",
       "    </tr>\n",
       "    <tr>\n",
       "      <th>9</th>\n",
       "      <td>0.896114</td>\n",
       "      <td>{'criterion': 'entropy', 'max_depth': 7}</td>\n",
       "    </tr>\n",
       "    <tr>\n",
       "      <th>8</th>\n",
       "      <td>0.874603</td>\n",
       "      <td>{'criterion': 'entropy', 'max_depth': 6}</td>\n",
       "    </tr>\n",
       "    <tr>\n",
       "      <th>2</th>\n",
       "      <td>0.870478</td>\n",
       "      <td>{'criterion': 'gini', 'max_depth': 6}</td>\n",
       "    </tr>\n",
       "    <tr>\n",
       "      <th>1</th>\n",
       "      <td>0.851964</td>\n",
       "      <td>{'criterion': 'gini', 'max_depth': 5}</td>\n",
       "    </tr>\n",
       "    <tr>\n",
       "      <th>7</th>\n",
       "      <td>0.847591</td>\n",
       "      <td>{'criterion': 'entropy', 'max_depth': 5}</td>\n",
       "    </tr>\n",
       "    <tr>\n",
       "      <th>0</th>\n",
       "      <td>0.830841</td>\n",
       "      <td>{'criterion': 'gini', 'max_depth': 4}</td>\n",
       "    </tr>\n",
       "    <tr>\n",
       "      <th>6</th>\n",
       "      <td>0.826716</td>\n",
       "      <td>{'criterion': 'entropy', 'max_depth': 4}</td>\n",
       "    </tr>\n",
       "  </tbody>\n",
       "</table>\n",
       "</div>"
      ],
      "text/plain": [
       "    mean_test_score                                     params\n",
       "5          0.920234     {'criterion': 'gini', 'max_depth': 10}\n",
       "11         0.918753  {'criterion': 'entropy', 'max_depth': 10}\n",
       "4          0.907962      {'criterion': 'gini', 'max_depth': 8}\n",
       "10         0.904965   {'criterion': 'entropy', 'max_depth': 8}\n",
       "3          0.896467      {'criterion': 'gini', 'max_depth': 7}\n",
       "9          0.896114   {'criterion': 'entropy', 'max_depth': 7}\n",
       "8          0.874603   {'criterion': 'entropy', 'max_depth': 6}\n",
       "2          0.870478      {'criterion': 'gini', 'max_depth': 6}\n",
       "1          0.851964      {'criterion': 'gini', 'max_depth': 5}\n",
       "7          0.847591   {'criterion': 'entropy', 'max_depth': 5}\n",
       "0          0.830841      {'criterion': 'gini', 'max_depth': 4}\n",
       "6          0.826716   {'criterion': 'entropy', 'max_depth': 4}"
      ]
     },
     "execution_count": 27,
     "metadata": {},
     "output_type": "execute_result"
    }
   ],
   "source": [
    "dt = DecisionTreeClassifier()\n",
    "\n",
    "param_dist = {\n",
    "    'max_depth' : [4 , 5 , 6 , 7 , 8 , 10],\n",
    "    'criterion' : ['gini', 'entropy']\n",
    "    }\n",
    "\n",
    "random_search = GridSearchCV(estimator = dt,\n",
    "                            param_grid = param_dist,\n",
    "                            cv = 5,\n",
    "                            n_jobs=-1\n",
    "                            )\n",
    "random_search.fit(x_train, y_train)\n",
    "\n",
    "cv_results = pd.DataFrame(random_search.cv_results_)\n",
    "cv_results = cv_results[[\"mean_test_score\", \"params\"]].sort_values(by=\"mean_test_score\", ascending=False)\n",
    "\n",
    "cv_results "
   ]
  },
  {
   "cell_type": "code",
   "execution_count": 28,
   "metadata": {},
   "outputs": [
    {
     "name": "stdout",
     "output_type": "stream",
     "text": [
      "              precision    recall  f1-score   support\n",
      "\n",
      "           1       0.92      0.93      0.92      3732\n",
      "           2       0.92      0.91      0.92      3358\n",
      "\n",
      "    accuracy                           0.92      7090\n",
      "   macro avg       0.92      0.92      0.92      7090\n",
      "weighted avg       0.92      0.92      0.92      7090\n",
      "\n"
     ]
    }
   ],
   "source": [
    "dt = DecisionTreeClassifier(max_depth = 10 , criterion= 'gini')\n",
    "dt.fit(x_train , y_train)\n",
    "dt.score(x_val , y_val)\n",
    "dt_report = classification_report(dt.predict(x_val) , y_val)\n",
    "print(dt_report)"
   ]
  },
  {
   "cell_type": "code",
   "execution_count": 29,
   "metadata": {},
   "outputs": [
    {
     "name": "stdout",
     "output_type": "stream",
     "text": [
      "              precision    recall  f1-score   support\n",
      "\n",
      "           1       0.95      0.96      0.95     14905\n",
      "           2       0.95      0.95      0.95     13453\n",
      "\n",
      "    accuracy                           0.95     28358\n",
      "   macro avg       0.95      0.95      0.95     28358\n",
      "weighted avg       0.95      0.95      0.95     28358\n",
      "\n"
     ]
    }
   ],
   "source": [
    "dt_train_report = classification_report(dt.predict(x_train) , y_train)\n",
    "print(dt_train_report)"
   ]
  },
  {
   "cell_type": "code",
   "execution_count": 30,
   "metadata": {},
   "outputs": [
    {
     "name": "stdout",
     "output_type": "stream",
     "text": [
      "              precision    recall  f1-score   support\n",
      "\n",
      "           1       0.91      0.93      0.92      4603\n",
      "           2       0.92      0.91      0.91      4259\n",
      "\n",
      "    accuracy                           0.92      8862\n",
      "   macro avg       0.92      0.92      0.92      8862\n",
      "weighted avg       0.92      0.92      0.92      8862\n",
      "\n"
     ]
    }
   ],
   "source": [
    "dt_test_report = classification_report(dt.predict(x_test) , y_test)\n",
    "print(dt_test_report)"
   ]
  },
  {
   "cell_type": "code",
   "execution_count": 31,
   "metadata": {},
   "outputs": [
    {
     "name": "stdout",
     "output_type": "stream",
     "text": [
      "74353\n"
     ]
    }
   ],
   "source": [
    "with open(os.getcwd().replace('/notebook' , '') + \"/model/staircase_model.py\" , \"w\") as f:\n",
    "  f.write(m2cgen.export_to_python(dt))\n",
    "print(os.path.getsize(os.getcwd().replace('/notebook' , '') + \"/model/staircase_model.py\" ))"
   ]
  },
  {
   "cell_type": "markdown",
   "metadata": {},
   "source": [
    "## Surface motion classification"
   ]
  },
  {
   "cell_type": "code",
   "execution_count": 32,
   "metadata": {},
   "outputs": [],
   "source": [
    "surface_df  =imu_df[(imu_df['Target'] == 0) | (imu_df['Target'] == 4)]\n",
    "x = surface_df.iloc[:,:-1]\n",
    "y = surface_df.iloc[:,-1]\n",
    "\n",
    "x1, x_test , y1 , y_test = train_test_split(x , y ,test_size= 0.2, stratify = y)\n",
    "\n",
    "x_train , x_val , y_train , y_val = train_test_split(x1 ,y1 ,test_size= 0.2, stratify = y1)"
   ]
  },
  {
   "cell_type": "markdown",
   "metadata": {},
   "source": [
    "### Modelling"
   ]
  },
  {
   "cell_type": "code",
   "execution_count": 33,
   "metadata": {},
   "outputs": [
    {
     "data": {
      "text/html": [
       "<div>\n",
       "<style scoped>\n",
       "    .dataframe tbody tr th:only-of-type {\n",
       "        vertical-align: middle;\n",
       "    }\n",
       "\n",
       "    .dataframe tbody tr th {\n",
       "        vertical-align: top;\n",
       "    }\n",
       "\n",
       "    .dataframe thead th {\n",
       "        text-align: right;\n",
       "    }\n",
       "</style>\n",
       "<table border=\"1\" class=\"dataframe\">\n",
       "  <thead>\n",
       "    <tr style=\"text-align: right;\">\n",
       "      <th></th>\n",
       "      <th>mean_test_score</th>\n",
       "      <th>params</th>\n",
       "    </tr>\n",
       "  </thead>\n",
       "  <tbody>\n",
       "    <tr>\n",
       "      <th>5</th>\n",
       "      <td>0.971768</td>\n",
       "      <td>{'criterion': 'gini', 'max_depth': 10}</td>\n",
       "    </tr>\n",
       "    <tr>\n",
       "      <th>4</th>\n",
       "      <td>0.970699</td>\n",
       "      <td>{'criterion': 'gini', 'max_depth': 8}</td>\n",
       "    </tr>\n",
       "    <tr>\n",
       "      <th>3</th>\n",
       "      <td>0.970353</td>\n",
       "      <td>{'criterion': 'gini', 'max_depth': 7}</td>\n",
       "    </tr>\n",
       "    <tr>\n",
       "      <th>11</th>\n",
       "      <td>0.970008</td>\n",
       "      <td>{'criterion': 'entropy', 'max_depth': 10}</td>\n",
       "    </tr>\n",
       "    <tr>\n",
       "      <th>10</th>\n",
       "      <td>0.969379</td>\n",
       "      <td>{'criterion': 'entropy', 'max_depth': 8}</td>\n",
       "    </tr>\n",
       "    <tr>\n",
       "      <th>2</th>\n",
       "      <td>0.967996</td>\n",
       "      <td>{'criterion': 'gini', 'max_depth': 6}</td>\n",
       "    </tr>\n",
       "    <tr>\n",
       "      <th>9</th>\n",
       "      <td>0.966455</td>\n",
       "      <td>{'criterion': 'entropy', 'max_depth': 7}</td>\n",
       "    </tr>\n",
       "    <tr>\n",
       "      <th>8</th>\n",
       "      <td>0.964914</td>\n",
       "      <td>{'criterion': 'entropy', 'max_depth': 6}</td>\n",
       "    </tr>\n",
       "    <tr>\n",
       "      <th>1</th>\n",
       "      <td>0.964694</td>\n",
       "      <td>{'criterion': 'gini', 'max_depth': 5}</td>\n",
       "    </tr>\n",
       "    <tr>\n",
       "      <th>0</th>\n",
       "      <td>0.960419</td>\n",
       "      <td>{'criterion': 'gini', 'max_depth': 4}</td>\n",
       "    </tr>\n",
       "    <tr>\n",
       "      <th>7</th>\n",
       "      <td>0.959476</td>\n",
       "      <td>{'criterion': 'entropy', 'max_depth': 5}</td>\n",
       "    </tr>\n",
       "    <tr>\n",
       "      <th>6</th>\n",
       "      <td>0.959130</td>\n",
       "      <td>{'criterion': 'entropy', 'max_depth': 4}</td>\n",
       "    </tr>\n",
       "  </tbody>\n",
       "</table>\n",
       "</div>"
      ],
      "text/plain": [
       "    mean_test_score                                     params\n",
       "5          0.971768     {'criterion': 'gini', 'max_depth': 10}\n",
       "4          0.970699      {'criterion': 'gini', 'max_depth': 8}\n",
       "3          0.970353      {'criterion': 'gini', 'max_depth': 7}\n",
       "11         0.970008  {'criterion': 'entropy', 'max_depth': 10}\n",
       "10         0.969379   {'criterion': 'entropy', 'max_depth': 8}\n",
       "2          0.967996      {'criterion': 'gini', 'max_depth': 6}\n",
       "9          0.966455   {'criterion': 'entropy', 'max_depth': 7}\n",
       "8          0.964914   {'criterion': 'entropy', 'max_depth': 6}\n",
       "1          0.964694      {'criterion': 'gini', 'max_depth': 5}\n",
       "0          0.960419      {'criterion': 'gini', 'max_depth': 4}\n",
       "7          0.959476   {'criterion': 'entropy', 'max_depth': 5}\n",
       "6          0.959130   {'criterion': 'entropy', 'max_depth': 4}"
      ]
     },
     "execution_count": 33,
     "metadata": {},
     "output_type": "execute_result"
    }
   ],
   "source": [
    "dt = DecisionTreeClassifier()\n",
    "\n",
    "param_dist = {\n",
    "    'max_depth' : [4 , 5 , 6 , 7 , 8 , 10],\n",
    "    'criterion' : ['gini', 'entropy']\n",
    "    }\n",
    "\n",
    "random_search = GridSearchCV(estimator = dt,\n",
    "                            param_grid = param_dist,\n",
    "                            cv = 5,\n",
    "                            n_jobs=-1\n",
    "                            )\n",
    "random_search.fit(x_train, y_train)\n",
    "\n",
    "cv_results = pd.DataFrame(random_search.cv_results_)\n",
    "cv_results = cv_results[[\"mean_test_score\", \"params\"]].sort_values(by=\"mean_test_score\", ascending=False)\n",
    "\n",
    "cv_results "
   ]
  },
  {
   "cell_type": "code",
   "execution_count": 34,
   "metadata": {},
   "outputs": [
    {
     "name": "stdout",
     "output_type": "stream",
     "text": [
      "              precision    recall  f1-score   support\n",
      "\n",
      "           0       0.98      0.98      0.98      4272\n",
      "           4       0.97      0.97      0.97      3680\n",
      "\n",
      "    accuracy                           0.97      7952\n",
      "   macro avg       0.97      0.97      0.97      7952\n",
      "weighted avg       0.97      0.97      0.97      7952\n",
      "\n"
     ]
    }
   ],
   "source": [
    "dt = DecisionTreeClassifier(max_depth = 10 , criterion= 'gini')\n",
    "dt.fit(x_train , y_train)\n",
    "dt.score(x_val , y_val)\n",
    "dt_report = classification_report(dt.predict(x_val) , y_val)\n",
    "print(dt_report)"
   ]
  },
  {
   "cell_type": "code",
   "execution_count": 35,
   "metadata": {},
   "outputs": [
    {
     "name": "stdout",
     "output_type": "stream",
     "text": [
      "              precision    recall  f1-score   support\n",
      "\n",
      "           0       0.99      0.99      0.99     17069\n",
      "           4       0.99      0.98      0.98     14739\n",
      "\n",
      "    accuracy                           0.99     31808\n",
      "   macro avg       0.99      0.99      0.99     31808\n",
      "weighted avg       0.99      0.99      0.99     31808\n",
      "\n"
     ]
    }
   ],
   "source": [
    "dt_train_report = classification_report(dt.predict(x_train) , y_train)\n",
    "print(dt_train_report)"
   ]
  },
  {
   "cell_type": "code",
   "execution_count": 36,
   "metadata": {},
   "outputs": [
    {
     "name": "stdout",
     "output_type": "stream",
     "text": [
      "              precision    recall  f1-score   support\n",
      "\n",
      "           0       0.97      0.98      0.98      5308\n",
      "           4       0.98      0.97      0.97      4632\n",
      "\n",
      "    accuracy                           0.98      9940\n",
      "   macro avg       0.98      0.97      0.98      9940\n",
      "weighted avg       0.98      0.98      0.98      9940\n",
      "\n"
     ]
    }
   ],
   "source": [
    "dt_test_report = classification_report(dt.predict(x_test) , y_test)\n",
    "print(dt_test_report)"
   ]
  },
  {
   "cell_type": "code",
   "execution_count": 37,
   "metadata": {},
   "outputs": [
    {
     "name": "stdout",
     "output_type": "stream",
     "text": [
      "42125\n"
     ]
    }
   ],
   "source": [
    "with open(os.getcwd().replace('/notebook' , '') + \"/model/surface_model.py\" , \"w\") as f:\n",
    "  f.write(m2cgen.export_to_python(dt))\n",
    "print(os.path.getsize(os.getcwd().replace('/notebook' , '') + \"/model/surface_model.py\" ))"
   ]
  }
 ],
 "metadata": {
  "kernelspec": {
   "display_name": "base",
   "language": "python",
   "name": "python3"
  },
  "language_info": {
   "codemirror_mode": {
    "name": "ipython",
    "version": 3
   },
   "file_extension": ".py",
   "mimetype": "text/x-python",
   "name": "python",
   "nbconvert_exporter": "python",
   "pygments_lexer": "ipython3",
   "version": "3.12.4"
  }
 },
 "nbformat": 4,
 "nbformat_minor": 2
}
