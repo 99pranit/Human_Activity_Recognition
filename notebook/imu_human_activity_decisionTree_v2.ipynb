{
 "cells": [
  {
   "cell_type": "markdown",
   "metadata": {},
   "source": [
    "## Import Libraries"
   ]
  },
  {
   "cell_type": "code",
   "execution_count": 1,
   "metadata": {},
   "outputs": [],
   "source": [
    "import pandas as pd\n",
    "import numpy as np\n",
    "from sklearn.preprocessing import MinMaxScaler , LabelEncoder\n",
    "from sklearn.model_selection import train_test_split , RandomizedSearchCV , GridSearchCV\n",
    "from sklearn.tree import DecisionTreeClassifier\n",
    "from sklearn.metrics import classification_report\n",
    "import m2cgen\n",
    "import os\n",
    "import matplotlib.pyplot as plt\n",
    "import joblib\n",
    "from xgboost import XGBClassifier\n",
    "pd.set_option('display.max_columns', None)  # Show all columns\n",
    "pd.set_option('display.max_rows', None)  # Show all rows\n",
    "pd.set_option('display.max_colwidth', None)  # Show full content in each cell\n",
    "pd.set_option('display.width', 1000)  # Set max width"
   ]
  },
  {
   "cell_type": "markdown",
   "metadata": {},
   "source": [
    "Activity Mapper:\n",
    "\n",
    "0 : walking\n",
    "1 : jogging\n",
    "2 : upstairs\n",
    "3 : downstairs\n",
    "4 : sitting\n",
    "5 : standing\n",
    "6 : sleeping"
   ]
  },
  {
   "cell_type": "markdown",
   "metadata": {},
   "source": [
    "## Load Data"
   ]
  },
  {
   "cell_type": "code",
   "execution_count": 2,
   "metadata": {},
   "outputs": [],
   "source": [
    "dataset_path = os.getcwd().replace('/notebook' , '') + \"/dataset/\"\n",
    "\n",
    "# Read training data\n",
    "imu_df = pd.read_csv(dataset_path + \"imu_data_v2.csv\")\n",
    "imu_df = imu_df.iloc[:,1:]\n",
    "imu_df.columns = imu_df.columns.str.replace(\"'\" , \"\")\n",
    "x = imu_df.iloc[:,:-1]\n",
    "y = imu_df.iloc[:,-1]"
   ]
  },
  {
   "cell_type": "code",
   "execution_count": 3,
   "metadata": {},
   "outputs": [
    {
     "data": {
      "text/plain": [
       "Index(['attitude.roll', ' attitude.pitch', ' attitude.yaw', ' gravity.x', ' gravity.y', ' gravity.z', ' rotationRate.x', ' rotationRate.y', ' rotationRate.z', ' userAcceleration.x', ' userAcceleration.y', ' userAcceleration.z', ' magnetic.x', ' magnetic.y', ' magnetic.z', ' temperature'], dtype='object')"
      ]
     },
     "execution_count": 3,
     "metadata": {},
     "output_type": "execute_result"
    }
   ],
   "source": [
    "x.columns"
   ]
  },
  {
   "cell_type": "markdown",
   "metadata": {},
   "source": [
    "# Modeling"
   ]
  },
  {
   "cell_type": "markdown",
   "metadata": {},
   "source": [
    "## Motion Classification"
   ]
  },
  {
   "cell_type": "code",
   "execution_count": 4,
   "metadata": {},
   "outputs": [],
   "source": [
    "\"\"\"\n",
    "Map\n",
    "0 - steady motion,\n",
    "1 - unsteady motion\n",
    "\"\"\"\n",
    "mapper = {\n",
    "    0 : 1,\n",
    "    1 : 1,\n",
    "    2 : 1,\n",
    "    3 : 1,\n",
    "    4 : 0,\n",
    "    5 : 0,\n",
    "    6 : 0\n",
    "}"
   ]
  },
  {
   "cell_type": "code",
   "execution_count": 5,
   "metadata": {},
   "outputs": [],
   "source": [
    "motion_y = y.map(mapper)\n",
    "\n",
    "x1, x_test , y1 , y_test = train_test_split(x ,motion_y ,test_size= 0.2, stratify = y)\n",
    "\n",
    "x_train , x_val , y_train , y_val = train_test_split(x1 ,y1 ,test_size= 0.2, stratify = y1)"
   ]
  },
  {
   "cell_type": "markdown",
   "metadata": {},
   "source": [
    "### Modelling"
   ]
  },
  {
   "cell_type": "code",
   "execution_count": 7,
   "metadata": {},
   "outputs": [
    {
     "data": {
      "text/html": [
       "<div>\n",
       "<style scoped>\n",
       "    .dataframe tbody tr th:only-of-type {\n",
       "        vertical-align: middle;\n",
       "    }\n",
       "\n",
       "    .dataframe tbody tr th {\n",
       "        vertical-align: top;\n",
       "    }\n",
       "\n",
       "    .dataframe thead th {\n",
       "        text-align: right;\n",
       "    }\n",
       "</style>\n",
       "<table border=\"1\" class=\"dataframe\">\n",
       "  <thead>\n",
       "    <tr style=\"text-align: right;\">\n",
       "      <th></th>\n",
       "      <th>mean_test_score</th>\n",
       "      <th>params</th>\n",
       "    </tr>\n",
       "  </thead>\n",
       "  <tbody>\n",
       "    <tr>\n",
       "      <th>11</th>\n",
       "      <td>0.998194</td>\n",
       "      <td>{'criterion': 'entropy', 'max_depth': 10}</td>\n",
       "    </tr>\n",
       "    <tr>\n",
       "      <th>10</th>\n",
       "      <td>0.997760</td>\n",
       "      <td>{'criterion': 'entropy', 'max_depth': 8}</td>\n",
       "    </tr>\n",
       "    <tr>\n",
       "      <th>5</th>\n",
       "      <td>0.997101</td>\n",
       "      <td>{'criterion': 'gini', 'max_depth': 10}</td>\n",
       "    </tr>\n",
       "    <tr>\n",
       "      <th>4</th>\n",
       "      <td>0.996806</td>\n",
       "      <td>{'criterion': 'gini', 'max_depth': 8}</td>\n",
       "    </tr>\n",
       "    <tr>\n",
       "      <th>9</th>\n",
       "      <td>0.996372</td>\n",
       "      <td>{'criterion': 'entropy', 'max_depth': 6}</td>\n",
       "    </tr>\n",
       "    <tr>\n",
       "      <th>3</th>\n",
       "      <td>0.994861</td>\n",
       "      <td>{'criterion': 'gini', 'max_depth': 6}</td>\n",
       "    </tr>\n",
       "    <tr>\n",
       "      <th>8</th>\n",
       "      <td>0.992135</td>\n",
       "      <td>{'criterion': 'entropy', 'max_depth': 4}</td>\n",
       "    </tr>\n",
       "    <tr>\n",
       "      <th>2</th>\n",
       "      <td>0.981406</td>\n",
       "      <td>{'criterion': 'gini', 'max_depth': 4}</td>\n",
       "    </tr>\n",
       "    <tr>\n",
       "      <th>7</th>\n",
       "      <td>0.967413</td>\n",
       "      <td>{'criterion': 'entropy', 'max_depth': 3}</td>\n",
       "    </tr>\n",
       "    <tr>\n",
       "      <th>1</th>\n",
       "      <td>0.963125</td>\n",
       "      <td>{'criterion': 'gini', 'max_depth': 3}</td>\n",
       "    </tr>\n",
       "    <tr>\n",
       "      <th>0</th>\n",
       "      <td>0.866250</td>\n",
       "      <td>{'criterion': 'gini', 'max_depth': 2}</td>\n",
       "    </tr>\n",
       "    <tr>\n",
       "      <th>6</th>\n",
       "      <td>0.865122</td>\n",
       "      <td>{'criterion': 'entropy', 'max_depth': 2}</td>\n",
       "    </tr>\n",
       "  </tbody>\n",
       "</table>\n",
       "</div>"
      ],
      "text/plain": [
       "    mean_test_score                                     params\n",
       "11         0.998194  {'criterion': 'entropy', 'max_depth': 10}\n",
       "10         0.997760   {'criterion': 'entropy', 'max_depth': 8}\n",
       "5          0.997101     {'criterion': 'gini', 'max_depth': 10}\n",
       "4          0.996806      {'criterion': 'gini', 'max_depth': 8}\n",
       "9          0.996372   {'criterion': 'entropy', 'max_depth': 6}\n",
       "3          0.994861      {'criterion': 'gini', 'max_depth': 6}\n",
       "8          0.992135   {'criterion': 'entropy', 'max_depth': 4}\n",
       "2          0.981406      {'criterion': 'gini', 'max_depth': 4}\n",
       "7          0.967413   {'criterion': 'entropy', 'max_depth': 3}\n",
       "1          0.963125      {'criterion': 'gini', 'max_depth': 3}\n",
       "0          0.866250      {'criterion': 'gini', 'max_depth': 2}\n",
       "6          0.865122   {'criterion': 'entropy', 'max_depth': 2}"
      ]
     },
     "execution_count": 7,
     "metadata": {},
     "output_type": "execute_result"
    }
   ],
   "source": [
    "dt = DecisionTreeClassifier()\n",
    "\n",
    "param_dist = {\n",
    "    'max_depth' : [2 , 3 , 4 , 6 , 8 , 10],\n",
    "    'criterion' : ['gini', 'entropy']\n",
    "    }\n",
    "\n",
    "random_search = GridSearchCV(estimator = dt,\n",
    "                            param_grid = param_dist,\n",
    "                            cv = 5,\n",
    "                            n_jobs=-1\n",
    "                            )\n",
    "random_search.fit(x_train, y_train)\n",
    "\n",
    "cv_results = pd.DataFrame(random_search.cv_results_)\n",
    "cv_results = cv_results[[\"mean_test_score\", \"params\"]].sort_values(by=\"mean_test_score\", ascending=False)\n",
    "\n",
    "cv_results "
   ]
  },
  {
   "cell_type": "code",
   "execution_count": 8,
   "metadata": {},
   "outputs": [
    {
     "name": "stdout",
     "output_type": "stream",
     "text": [
      "              precision    recall  f1-score   support\n",
      "\n",
      "           0       1.00      1.00      1.00      6719\n",
      "           1       1.00      1.00      1.00      7681\n",
      "\n",
      "    accuracy                           1.00     14400\n",
      "   macro avg       1.00      1.00      1.00     14400\n",
      "weighted avg       1.00      1.00      1.00     14400\n",
      "\n"
     ]
    }
   ],
   "source": [
    "dt = DecisionTreeClassifier(max_depth = 10 , criterion= 'entropy')\n",
    "dt.fit(x_train , y_train)\n",
    "dt.score(x_val , y_val)\n",
    "dt_report = classification_report(dt.predict(x_val) , y_val)\n",
    "print(dt_report)"
   ]
  },
  {
   "cell_type": "code",
   "execution_count": 9,
   "metadata": {},
   "outputs": [
    {
     "name": "stdout",
     "output_type": "stream",
     "text": [
      "              precision    recall  f1-score   support\n",
      "\n",
      "           0       1.00      1.00      1.00     26884\n",
      "           1       1.00      1.00      1.00     30716\n",
      "\n",
      "    accuracy                           1.00     57600\n",
      "   macro avg       1.00      1.00      1.00     57600\n",
      "weighted avg       1.00      1.00      1.00     57600\n",
      "\n"
     ]
    }
   ],
   "source": [
    "dt_train_report = classification_report(dt.predict(x_train) , y_train)\n",
    "print(dt_train_report)"
   ]
  },
  {
   "cell_type": "code",
   "execution_count": 10,
   "metadata": {},
   "outputs": [
    {
     "name": "stdout",
     "output_type": "stream",
     "text": [
      "              precision    recall  f1-score   support\n",
      "\n",
      "           0       1.00      1.00      1.00      8402\n",
      "           1       1.00      1.00      1.00      9598\n",
      "\n",
      "    accuracy                           1.00     18000\n",
      "   macro avg       1.00      1.00      1.00     18000\n",
      "weighted avg       1.00      1.00      1.00     18000\n",
      "\n"
     ]
    }
   ],
   "source": [
    "dt_test_report = classification_report(dt.predict(x_test) , y_test)\n",
    "print(dt_test_report)"
   ]
  },
  {
   "cell_type": "code",
   "execution_count": 11,
   "metadata": {},
   "outputs": [
    {
     "name": "stdout",
     "output_type": "stream",
     "text": [
      "13383\n"
     ]
    }
   ],
   "source": [
    "with open(os.getcwd().replace('/notebook' , '') + \"/model/motion_model.py\" , \"w\") as f:\n",
    "  f.write(m2cgen.export_to_python(dt))\n",
    "print(os.path.getsize(os.getcwd().replace('/notebook' , '') + \"/model/motion_model.py\" ))"
   ]
  },
  {
   "cell_type": "markdown",
   "metadata": {},
   "source": [
    "## Steady Movement Classification"
   ]
  },
  {
   "cell_type": "code",
   "execution_count": 12,
   "metadata": {},
   "outputs": [],
   "source": [
    "steady_df  =imu_df[(imu_df['Target'] == 4) | (imu_df['Target'] == 5) | (imu_df['Target'] == 6)]\n",
    "x = steady_df.iloc[:,:-1]\n",
    "y = steady_df.iloc[:,-1]\n",
    "\n",
    "x1, x_test , y1 , y_test = train_test_split(x , y ,test_size= 0.2, stratify = y)\n",
    "\n",
    "x_train , x_val , y_train , y_val = train_test_split(x1 ,y1 ,test_size= 0.2, stratify = y1)"
   ]
  },
  {
   "cell_type": "markdown",
   "metadata": {},
   "source": [
    "### Modelling"
   ]
  },
  {
   "cell_type": "code",
   "execution_count": 14,
   "metadata": {},
   "outputs": [
    {
     "data": {
      "text/html": [
       "<div>\n",
       "<style scoped>\n",
       "    .dataframe tbody tr th:only-of-type {\n",
       "        vertical-align: middle;\n",
       "    }\n",
       "\n",
       "    .dataframe tbody tr th {\n",
       "        vertical-align: top;\n",
       "    }\n",
       "\n",
       "    .dataframe thead th {\n",
       "        text-align: right;\n",
       "    }\n",
       "</style>\n",
       "<table border=\"1\" class=\"dataframe\">\n",
       "  <thead>\n",
       "    <tr style=\"text-align: right;\">\n",
       "      <th></th>\n",
       "      <th>mean_test_score</th>\n",
       "      <th>params</th>\n",
       "    </tr>\n",
       "  </thead>\n",
       "  <tbody>\n",
       "    <tr>\n",
       "      <th>11</th>\n",
       "      <td>0.990253</td>\n",
       "      <td>{'criterion': 'entropy', 'max_depth': 10}</td>\n",
       "    </tr>\n",
       "    <tr>\n",
       "      <th>5</th>\n",
       "      <td>0.986161</td>\n",
       "      <td>{'criterion': 'gini', 'max_depth': 10}</td>\n",
       "    </tr>\n",
       "    <tr>\n",
       "      <th>4</th>\n",
       "      <td>0.980878</td>\n",
       "      <td>{'criterion': 'gini', 'max_depth': 8}</td>\n",
       "    </tr>\n",
       "    <tr>\n",
       "      <th>10</th>\n",
       "      <td>0.980283</td>\n",
       "      <td>{'criterion': 'entropy', 'max_depth': 8}</td>\n",
       "    </tr>\n",
       "    <tr>\n",
       "      <th>3</th>\n",
       "      <td>0.967001</td>\n",
       "      <td>{'criterion': 'gini', 'max_depth': 6}</td>\n",
       "    </tr>\n",
       "    <tr>\n",
       "      <th>9</th>\n",
       "      <td>0.965699</td>\n",
       "      <td>{'criterion': 'entropy', 'max_depth': 6}</td>\n",
       "    </tr>\n",
       "    <tr>\n",
       "      <th>2</th>\n",
       "      <td>0.960603</td>\n",
       "      <td>{'criterion': 'gini', 'max_depth': 5}</td>\n",
       "    </tr>\n",
       "    <tr>\n",
       "      <th>8</th>\n",
       "      <td>0.951749</td>\n",
       "      <td>{'criterion': 'entropy', 'max_depth': 5}</td>\n",
       "    </tr>\n",
       "    <tr>\n",
       "      <th>1</th>\n",
       "      <td>0.904018</td>\n",
       "      <td>{'criterion': 'gini', 'max_depth': 4}</td>\n",
       "    </tr>\n",
       "    <tr>\n",
       "      <th>7</th>\n",
       "      <td>0.864583</td>\n",
       "      <td>{'criterion': 'entropy', 'max_depth': 4}</td>\n",
       "    </tr>\n",
       "    <tr>\n",
       "      <th>6</th>\n",
       "      <td>0.857701</td>\n",
       "      <td>{'criterion': 'entropy', 'max_depth': 3}</td>\n",
       "    </tr>\n",
       "    <tr>\n",
       "      <th>0</th>\n",
       "      <td>0.857589</td>\n",
       "      <td>{'criterion': 'gini', 'max_depth': 3}</td>\n",
       "    </tr>\n",
       "  </tbody>\n",
       "</table>\n",
       "</div>"
      ],
      "text/plain": [
       "    mean_test_score                                     params\n",
       "11         0.990253  {'criterion': 'entropy', 'max_depth': 10}\n",
       "5          0.986161     {'criterion': 'gini', 'max_depth': 10}\n",
       "4          0.980878      {'criterion': 'gini', 'max_depth': 8}\n",
       "10         0.980283   {'criterion': 'entropy', 'max_depth': 8}\n",
       "3          0.967001      {'criterion': 'gini', 'max_depth': 6}\n",
       "9          0.965699   {'criterion': 'entropy', 'max_depth': 6}\n",
       "2          0.960603      {'criterion': 'gini', 'max_depth': 5}\n",
       "8          0.951749   {'criterion': 'entropy', 'max_depth': 5}\n",
       "1          0.904018      {'criterion': 'gini', 'max_depth': 4}\n",
       "7          0.864583   {'criterion': 'entropy', 'max_depth': 4}\n",
       "6          0.857701   {'criterion': 'entropy', 'max_depth': 3}\n",
       "0          0.857589      {'criterion': 'gini', 'max_depth': 3}"
      ]
     },
     "execution_count": 14,
     "metadata": {},
     "output_type": "execute_result"
    }
   ],
   "source": [
    "dt = DecisionTreeClassifier()\n",
    "\n",
    "param_dist = {\n",
    "    'max_depth' : [3 , 4 , 5 , 6 , 8 , 10],\n",
    "    'criterion' : ['gini', 'entropy']\n",
    "    }\n",
    "\n",
    "random_search = GridSearchCV(estimator = dt,\n",
    "                            param_grid = param_dist,\n",
    "                            cv = 5,\n",
    "                            n_jobs=-1\n",
    "                            )\n",
    "random_search.fit(x_train, y_train)\n",
    "\n",
    "cv_results = pd.DataFrame(random_search.cv_results_)\n",
    "cv_results = cv_results[[\"mean_test_score\", \"params\"]].sort_values(by=\"mean_test_score\", ascending=False)\n",
    "\n",
    "cv_results "
   ]
  },
  {
   "cell_type": "code",
   "execution_count": 17,
   "metadata": {},
   "outputs": [
    {
     "name": "stdout",
     "output_type": "stream",
     "text": [
      "              precision    recall  f1-score   support\n",
      "\n",
      "           4       0.98      0.98      0.98      2241\n",
      "           5       0.98      0.98      0.98      2239\n",
      "           6       1.00      1.00      1.00      2240\n",
      "\n",
      "    accuracy                           0.99      6720\n",
      "   macro avg       0.99      0.99      0.99      6720\n",
      "weighted avg       0.99      0.99      0.99      6720\n",
      "\n"
     ]
    }
   ],
   "source": [
    "dt = DecisionTreeClassifier(max_depth = 10 , criterion= 'entropy')\n",
    "dt.fit(x_train , y_train)\n",
    "dt.score(x_val , y_val)\n",
    "dt_report = classification_report(dt.predict(x_val) , y_val)\n",
    "print(dt_report)"
   ]
  },
  {
   "cell_type": "code",
   "execution_count": 18,
   "metadata": {},
   "outputs": [
    {
     "name": "stdout",
     "output_type": "stream",
     "text": [
      "              precision    recall  f1-score   support\n",
      "\n",
      "           4       0.99      0.99      0.99      8934\n",
      "           5       0.99      0.99      0.99      8986\n",
      "           6       1.00      1.00      1.00      8960\n",
      "\n",
      "    accuracy                           0.99     26880\n",
      "   macro avg       0.99      0.99      0.99     26880\n",
      "weighted avg       0.99      0.99      0.99     26880\n",
      "\n"
     ]
    }
   ],
   "source": [
    "dt_train_report = classification_report(dt.predict(x_train) , y_train)\n",
    "print(dt_train_report)"
   ]
  },
  {
   "cell_type": "code",
   "execution_count": 19,
   "metadata": {},
   "outputs": [
    {
     "name": "stdout",
     "output_type": "stream",
     "text": [
      "              precision    recall  f1-score   support\n",
      "\n",
      "           4       0.98      0.99      0.99      2790\n",
      "           5       0.99      0.98      0.99      2810\n",
      "           6       1.00      1.00      1.00      2800\n",
      "\n",
      "    accuracy                           0.99      8400\n",
      "   macro avg       0.99      0.99      0.99      8400\n",
      "weighted avg       0.99      0.99      0.99      8400\n",
      "\n"
     ]
    }
   ],
   "source": [
    "dt_test_report = classification_report(dt.predict(x_test) , y_test)\n",
    "print(dt_test_report)"
   ]
  },
  {
   "cell_type": "code",
   "execution_count": 20,
   "metadata": {},
   "outputs": [
    {
     "name": "stdout",
     "output_type": "stream",
     "text": [
      "9468\n"
     ]
    }
   ],
   "source": [
    "with open(os.getcwd().replace('/notebook' , '') + \"/model/steady_model.py\" , \"w\") as f:\n",
    "  f.write(m2cgen.export_to_python(dt))\n",
    "print(os.path.getsize(os.getcwd().replace('/notebook' , '') + \"/model/steady_model.py\" ))"
   ]
  },
  {
   "cell_type": "markdown",
   "metadata": {},
   "source": [
    "## Unsteady Movement Classification"
   ]
  },
  {
   "cell_type": "code",
   "execution_count": 21,
   "metadata": {},
   "outputs": [],
   "source": [
    "unsteady_df  =imu_df[(imu_df['Target'] != 4) & (imu_df['Target'] != 5) & (imu_df['Target'] != 6)]\n",
    "x = unsteady_df.iloc[:,:-1]\n",
    "y = unsteady_df.iloc[:,-1]"
   ]
  },
  {
   "cell_type": "markdown",
   "metadata": {},
   "source": [
    "## Unsteady Motion Classification"
   ]
  },
  {
   "cell_type": "code",
   "execution_count": 22,
   "metadata": {},
   "outputs": [],
   "source": [
    "\"\"\"\n",
    "Map\n",
    "0 - surface motion,\n",
    "1 - staircase motion\n",
    "\"\"\"\n",
    "mapper = {\n",
    "    0 : 0,\n",
    "    1 : 0,\n",
    "    2 : 1,\n",
    "    3 : 1\n",
    "}"
   ]
  },
  {
   "cell_type": "code",
   "execution_count": 23,
   "metadata": {},
   "outputs": [],
   "source": [
    "unsteady_motion_y = y.map(mapper)\n",
    "\n",
    "x1, x_test , y1 , y_test = train_test_split(x ,unsteady_motion_y ,test_size= 0.2, stratify = y)\n",
    "\n",
    "x_train , x_val , y_train , y_val = train_test_split(x1 ,y1 ,test_size= 0.2, stratify = y1)"
   ]
  },
  {
   "cell_type": "markdown",
   "metadata": {},
   "source": [
    "### Modelling"
   ]
  },
  {
   "cell_type": "code",
   "execution_count": 24,
   "metadata": {},
   "outputs": [
    {
     "data": {
      "text/html": [
       "<div>\n",
       "<style scoped>\n",
       "    .dataframe tbody tr th:only-of-type {\n",
       "        vertical-align: middle;\n",
       "    }\n",
       "\n",
       "    .dataframe tbody tr th {\n",
       "        vertical-align: top;\n",
       "    }\n",
       "\n",
       "    .dataframe thead th {\n",
       "        text-align: right;\n",
       "    }\n",
       "</style>\n",
       "<table border=\"1\" class=\"dataframe\">\n",
       "  <thead>\n",
       "    <tr style=\"text-align: right;\">\n",
       "      <th></th>\n",
       "      <th>mean_test_score</th>\n",
       "      <th>params</th>\n",
       "    </tr>\n",
       "  </thead>\n",
       "  <tbody>\n",
       "    <tr>\n",
       "      <th>5</th>\n",
       "      <td>0.995020</td>\n",
       "      <td>{'criterion': 'gini', 'max_depth': 10}</td>\n",
       "    </tr>\n",
       "    <tr>\n",
       "      <th>11</th>\n",
       "      <td>0.994564</td>\n",
       "      <td>{'criterion': 'entropy', 'max_depth': 10}</td>\n",
       "    </tr>\n",
       "    <tr>\n",
       "      <th>4</th>\n",
       "      <td>0.994141</td>\n",
       "      <td>{'criterion': 'gini', 'max_depth': 8}</td>\n",
       "    </tr>\n",
       "    <tr>\n",
       "      <th>10</th>\n",
       "      <td>0.993750</td>\n",
       "      <td>{'criterion': 'entropy', 'max_depth': 8}</td>\n",
       "    </tr>\n",
       "    <tr>\n",
       "      <th>9</th>\n",
       "      <td>0.992220</td>\n",
       "      <td>{'criterion': 'entropy', 'max_depth': 7}</td>\n",
       "    </tr>\n",
       "    <tr>\n",
       "      <th>3</th>\n",
       "      <td>0.991341</td>\n",
       "      <td>{'criterion': 'gini', 'max_depth': 7}</td>\n",
       "    </tr>\n",
       "    <tr>\n",
       "      <th>8</th>\n",
       "      <td>0.990820</td>\n",
       "      <td>{'criterion': 'entropy', 'max_depth': 6}</td>\n",
       "    </tr>\n",
       "    <tr>\n",
       "      <th>2</th>\n",
       "      <td>0.989941</td>\n",
       "      <td>{'criterion': 'gini', 'max_depth': 6}</td>\n",
       "    </tr>\n",
       "    <tr>\n",
       "      <th>7</th>\n",
       "      <td>0.987891</td>\n",
       "      <td>{'criterion': 'entropy', 'max_depth': 5}</td>\n",
       "    </tr>\n",
       "    <tr>\n",
       "      <th>1</th>\n",
       "      <td>0.984896</td>\n",
       "      <td>{'criterion': 'gini', 'max_depth': 5}</td>\n",
       "    </tr>\n",
       "    <tr>\n",
       "      <th>0</th>\n",
       "      <td>0.925651</td>\n",
       "      <td>{'criterion': 'gini', 'max_depth': 4}</td>\n",
       "    </tr>\n",
       "    <tr>\n",
       "      <th>6</th>\n",
       "      <td>0.924577</td>\n",
       "      <td>{'criterion': 'entropy', 'max_depth': 4}</td>\n",
       "    </tr>\n",
       "  </tbody>\n",
       "</table>\n",
       "</div>"
      ],
      "text/plain": [
       "    mean_test_score                                     params\n",
       "5          0.995020     {'criterion': 'gini', 'max_depth': 10}\n",
       "11         0.994564  {'criterion': 'entropy', 'max_depth': 10}\n",
       "4          0.994141      {'criterion': 'gini', 'max_depth': 8}\n",
       "10         0.993750   {'criterion': 'entropy', 'max_depth': 8}\n",
       "9          0.992220   {'criterion': 'entropy', 'max_depth': 7}\n",
       "3          0.991341      {'criterion': 'gini', 'max_depth': 7}\n",
       "8          0.990820   {'criterion': 'entropy', 'max_depth': 6}\n",
       "2          0.989941      {'criterion': 'gini', 'max_depth': 6}\n",
       "7          0.987891   {'criterion': 'entropy', 'max_depth': 5}\n",
       "1          0.984896      {'criterion': 'gini', 'max_depth': 5}\n",
       "0          0.925651      {'criterion': 'gini', 'max_depth': 4}\n",
       "6          0.924577   {'criterion': 'entropy', 'max_depth': 4}"
      ]
     },
     "execution_count": 24,
     "metadata": {},
     "output_type": "execute_result"
    }
   ],
   "source": [
    "dt = DecisionTreeClassifier()\n",
    "\n",
    "param_dist = {\n",
    "    'max_depth' : [4 , 5 , 6 , 7 , 8 , 10],\n",
    "    'criterion' : ['gini', 'entropy']\n",
    "    }\n",
    "\n",
    "random_search = GridSearchCV(estimator = dt,\n",
    "                            param_grid = param_dist,\n",
    "                            cv = 5,\n",
    "                            n_jobs=-1\n",
    "                            )\n",
    "random_search.fit(x_train, y_train)\n",
    "\n",
    "cv_results = pd.DataFrame(random_search.cv_results_)\n",
    "cv_results = cv_results[[\"mean_test_score\", \"params\"]].sort_values(by=\"mean_test_score\", ascending=False)\n",
    "\n",
    "cv_results "
   ]
  },
  {
   "cell_type": "code",
   "execution_count": 25,
   "metadata": {},
   "outputs": [
    {
     "name": "stdout",
     "output_type": "stream",
     "text": [
      "              precision    recall  f1-score   support\n",
      "\n",
      "           0       1.00      1.00      1.00      3847\n",
      "           1       1.00      1.00      1.00      3833\n",
      "\n",
      "    accuracy                           1.00      7680\n",
      "   macro avg       1.00      1.00      1.00      7680\n",
      "weighted avg       1.00      1.00      1.00      7680\n",
      "\n"
     ]
    }
   ],
   "source": [
    "dt = DecisionTreeClassifier(max_depth = 10 , criterion= 'entropy')\n",
    "dt.fit(x_train , y_train)\n",
    "dt.score(x_val , y_val)\n",
    "dt_report = classification_report(dt.predict(x_val) , y_val)\n",
    "print(dt_report)"
   ]
  },
  {
   "cell_type": "code",
   "execution_count": 26,
   "metadata": {},
   "outputs": [
    {
     "name": "stdout",
     "output_type": "stream",
     "text": [
      "              precision    recall  f1-score   support\n",
      "\n",
      "           0       1.00      1.00      1.00     15394\n",
      "           1       1.00      1.00      1.00     15326\n",
      "\n",
      "    accuracy                           1.00     30720\n",
      "   macro avg       1.00      1.00      1.00     30720\n",
      "weighted avg       1.00      1.00      1.00     30720\n",
      "\n"
     ]
    }
   ],
   "source": [
    "dt_train_report = classification_report(dt.predict(x_train) , y_train)\n",
    "print(dt_train_report)"
   ]
  },
  {
   "cell_type": "code",
   "execution_count": 27,
   "metadata": {},
   "outputs": [
    {
     "name": "stdout",
     "output_type": "stream",
     "text": [
      "              precision    recall  f1-score   support\n",
      "\n",
      "           0       1.00      0.99      0.99      4810\n",
      "           1       0.99      1.00      0.99      4790\n",
      "\n",
      "    accuracy                           0.99      9600\n",
      "   macro avg       0.99      0.99      0.99      9600\n",
      "weighted avg       0.99      0.99      0.99      9600\n",
      "\n"
     ]
    }
   ],
   "source": [
    "dt_test_report = classification_report(dt.predict(x_test) , y_test)\n",
    "print(dt_test_report)"
   ]
  },
  {
   "cell_type": "code",
   "execution_count": 28,
   "metadata": {},
   "outputs": [
    {
     "name": "stdout",
     "output_type": "stream",
     "text": [
      "15741\n"
     ]
    }
   ],
   "source": [
    "with open(os.getcwd().replace('/notebook' , '') + \"/model/unsteady_model.py\" , \"w\") as f:\n",
    "  f.write(m2cgen.export_to_python(dt))\n",
    "print(os.path.getsize(os.getcwd().replace('/notebook' , '') + \"/model/unsteady_model.py\" ))"
   ]
  },
  {
   "cell_type": "markdown",
   "metadata": {},
   "source": [
    "## Staircase motion"
   ]
  },
  {
   "cell_type": "code",
   "execution_count": 29,
   "metadata": {},
   "outputs": [],
   "source": [
    "staircase_df  =imu_df[(imu_df['Target'] == 1) | (imu_df['Target'] == 2)]\n",
    "x = staircase_df.iloc[:,:-1]\n",
    "y = staircase_df.iloc[:,-1]\n",
    "\n",
    "x1, x_test , y1 , y_test = train_test_split(x , y ,test_size= 0.2, stratify = y)\n",
    "\n",
    "x_train , x_val , y_train , y_val = train_test_split(x1 ,y1 ,test_size= 0.2, stratify = y1)"
   ]
  },
  {
   "cell_type": "markdown",
   "metadata": {},
   "source": [
    "### Modelling"
   ]
  },
  {
   "cell_type": "code",
   "execution_count": 30,
   "metadata": {},
   "outputs": [
    {
     "data": {
      "text/html": [
       "<div>\n",
       "<style scoped>\n",
       "    .dataframe tbody tr th:only-of-type {\n",
       "        vertical-align: middle;\n",
       "    }\n",
       "\n",
       "    .dataframe tbody tr th {\n",
       "        vertical-align: top;\n",
       "    }\n",
       "\n",
       "    .dataframe thead th {\n",
       "        text-align: right;\n",
       "    }\n",
       "</style>\n",
       "<table border=\"1\" class=\"dataframe\">\n",
       "  <thead>\n",
       "    <tr style=\"text-align: right;\">\n",
       "      <th></th>\n",
       "      <th>mean_test_score</th>\n",
       "      <th>params</th>\n",
       "    </tr>\n",
       "  </thead>\n",
       "  <tbody>\n",
       "    <tr>\n",
       "      <th>10</th>\n",
       "      <td>0.990755</td>\n",
       "      <td>{'criterion': 'entropy', 'max_depth': 8}</td>\n",
       "    </tr>\n",
       "    <tr>\n",
       "      <th>11</th>\n",
       "      <td>0.990560</td>\n",
       "      <td>{'criterion': 'entropy', 'max_depth': 10}</td>\n",
       "    </tr>\n",
       "    <tr>\n",
       "      <th>9</th>\n",
       "      <td>0.989388</td>\n",
       "      <td>{'criterion': 'entropy', 'max_depth': 7}</td>\n",
       "    </tr>\n",
       "    <tr>\n",
       "      <th>8</th>\n",
       "      <td>0.989323</td>\n",
       "      <td>{'criterion': 'entropy', 'max_depth': 6}</td>\n",
       "    </tr>\n",
       "    <tr>\n",
       "      <th>5</th>\n",
       "      <td>0.988867</td>\n",
       "      <td>{'criterion': 'gini', 'max_depth': 10}</td>\n",
       "    </tr>\n",
       "    <tr>\n",
       "      <th>4</th>\n",
       "      <td>0.988672</td>\n",
       "      <td>{'criterion': 'gini', 'max_depth': 8}</td>\n",
       "    </tr>\n",
       "    <tr>\n",
       "      <th>3</th>\n",
       "      <td>0.985482</td>\n",
       "      <td>{'criterion': 'gini', 'max_depth': 7}</td>\n",
       "    </tr>\n",
       "    <tr>\n",
       "      <th>2</th>\n",
       "      <td>0.968099</td>\n",
       "      <td>{'criterion': 'gini', 'max_depth': 6}</td>\n",
       "    </tr>\n",
       "    <tr>\n",
       "      <th>7</th>\n",
       "      <td>0.963216</td>\n",
       "      <td>{'criterion': 'entropy', 'max_depth': 5}</td>\n",
       "    </tr>\n",
       "    <tr>\n",
       "      <th>6</th>\n",
       "      <td>0.959766</td>\n",
       "      <td>{'criterion': 'entropy', 'max_depth': 4}</td>\n",
       "    </tr>\n",
       "    <tr>\n",
       "      <th>1</th>\n",
       "      <td>0.959701</td>\n",
       "      <td>{'criterion': 'gini', 'max_depth': 5}</td>\n",
       "    </tr>\n",
       "    <tr>\n",
       "      <th>0</th>\n",
       "      <td>0.931185</td>\n",
       "      <td>{'criterion': 'gini', 'max_depth': 4}</td>\n",
       "    </tr>\n",
       "  </tbody>\n",
       "</table>\n",
       "</div>"
      ],
      "text/plain": [
       "    mean_test_score                                     params\n",
       "10         0.990755   {'criterion': 'entropy', 'max_depth': 8}\n",
       "11         0.990560  {'criterion': 'entropy', 'max_depth': 10}\n",
       "9          0.989388   {'criterion': 'entropy', 'max_depth': 7}\n",
       "8          0.989323   {'criterion': 'entropy', 'max_depth': 6}\n",
       "5          0.988867     {'criterion': 'gini', 'max_depth': 10}\n",
       "4          0.988672      {'criterion': 'gini', 'max_depth': 8}\n",
       "3          0.985482      {'criterion': 'gini', 'max_depth': 7}\n",
       "2          0.968099      {'criterion': 'gini', 'max_depth': 6}\n",
       "7          0.963216   {'criterion': 'entropy', 'max_depth': 5}\n",
       "6          0.959766   {'criterion': 'entropy', 'max_depth': 4}\n",
       "1          0.959701      {'criterion': 'gini', 'max_depth': 5}\n",
       "0          0.931185      {'criterion': 'gini', 'max_depth': 4}"
      ]
     },
     "execution_count": 30,
     "metadata": {},
     "output_type": "execute_result"
    }
   ],
   "source": [
    "dt = DecisionTreeClassifier()\n",
    "\n",
    "param_dist = {\n",
    "    'max_depth' : [4 , 5 , 6 , 7 , 8 , 10],\n",
    "    'criterion' : ['gini', 'entropy']\n",
    "    }\n",
    "\n",
    "random_search = GridSearchCV(estimator = dt,\n",
    "                            param_grid = param_dist,\n",
    "                            cv = 5,\n",
    "                            n_jobs=-1\n",
    "                            )\n",
    "random_search.fit(x_train, y_train)\n",
    "\n",
    "cv_results = pd.DataFrame(random_search.cv_results_)\n",
    "cv_results = cv_results[[\"mean_test_score\", \"params\"]].sort_values(by=\"mean_test_score\", ascending=False)\n",
    "\n",
    "cv_results "
   ]
  },
  {
   "cell_type": "code",
   "execution_count": 31,
   "metadata": {},
   "outputs": [
    {
     "name": "stdout",
     "output_type": "stream",
     "text": [
      "              precision    recall  f1-score   support\n",
      "\n",
      "           1       0.99      0.99      0.99      1922\n",
      "           2       0.99      0.99      0.99      1918\n",
      "\n",
      "    accuracy                           0.99      3840\n",
      "   macro avg       0.99      0.99      0.99      3840\n",
      "weighted avg       0.99      0.99      0.99      3840\n",
      "\n"
     ]
    }
   ],
   "source": [
    "dt = DecisionTreeClassifier(max_depth = 8 , criterion= 'entropy')\n",
    "dt.fit(x_train , y_train)\n",
    "dt.score(x_val , y_val)\n",
    "dt_report = classification_report(dt.predict(x_val) , y_val)\n",
    "print(dt_report)"
   ]
  },
  {
   "cell_type": "code",
   "execution_count": 32,
   "metadata": {},
   "outputs": [
    {
     "name": "stdout",
     "output_type": "stream",
     "text": [
      "              precision    recall  f1-score   support\n",
      "\n",
      "           1       1.00      0.99      1.00      7715\n",
      "           2       0.99      1.00      1.00      7645\n",
      "\n",
      "    accuracy                           1.00     15360\n",
      "   macro avg       1.00      1.00      1.00     15360\n",
      "weighted avg       1.00      1.00      1.00     15360\n",
      "\n"
     ]
    }
   ],
   "source": [
    "dt_train_report = classification_report(dt.predict(x_train) , y_train)\n",
    "print(dt_train_report)"
   ]
  },
  {
   "cell_type": "code",
   "execution_count": 33,
   "metadata": {},
   "outputs": [
    {
     "name": "stdout",
     "output_type": "stream",
     "text": [
      "              precision    recall  f1-score   support\n",
      "\n",
      "           1       1.00      0.99      0.99      2408\n",
      "           2       0.99      1.00      0.99      2392\n",
      "\n",
      "    accuracy                           0.99      4800\n",
      "   macro avg       0.99      0.99      0.99      4800\n",
      "weighted avg       0.99      0.99      0.99      4800\n",
      "\n"
     ]
    }
   ],
   "source": [
    "dt_test_report = classification_report(dt.predict(x_test) , y_test)\n",
    "print(dt_test_report)"
   ]
  },
  {
   "cell_type": "code",
   "execution_count": 34,
   "metadata": {},
   "outputs": [
    {
     "name": "stdout",
     "output_type": "stream",
     "text": [
      "9242\n"
     ]
    }
   ],
   "source": [
    "with open(os.getcwd().replace('/notebook' , '') + \"/model/staircase_model.py\" , \"w\") as f:\n",
    "  f.write(m2cgen.export_to_python(dt))\n",
    "print(os.path.getsize(os.getcwd().replace('/notebook' , '') + \"/model/staircase_model.py\" ))"
   ]
  },
  {
   "cell_type": "markdown",
   "metadata": {},
   "source": [
    "## Surface motion classification"
   ]
  },
  {
   "cell_type": "code",
   "execution_count": 35,
   "metadata": {},
   "outputs": [],
   "source": [
    "surface_df  =imu_df[(imu_df['Target'] == 0) | (imu_df['Target'] == 4)]\n",
    "x = surface_df.iloc[:,:-1]\n",
    "y = surface_df.iloc[:,-1]\n",
    "\n",
    "x1, x_test , y1 , y_test = train_test_split(x , y ,test_size= 0.2, stratify = y)\n",
    "\n",
    "x_train , x_val , y_train , y_val = train_test_split(x1 ,y1 ,test_size= 0.2, stratify = y1)"
   ]
  },
  {
   "cell_type": "markdown",
   "metadata": {},
   "source": [
    "### Modelling"
   ]
  },
  {
   "cell_type": "code",
   "execution_count": 36,
   "metadata": {},
   "outputs": [
    {
     "data": {
      "text/html": [
       "<div>\n",
       "<style scoped>\n",
       "    .dataframe tbody tr th:only-of-type {\n",
       "        vertical-align: middle;\n",
       "    }\n",
       "\n",
       "    .dataframe tbody tr th {\n",
       "        vertical-align: top;\n",
       "    }\n",
       "\n",
       "    .dataframe thead th {\n",
       "        text-align: right;\n",
       "    }\n",
       "</style>\n",
       "<table border=\"1\" class=\"dataframe\">\n",
       "  <thead>\n",
       "    <tr style=\"text-align: right;\">\n",
       "      <th></th>\n",
       "      <th>mean_test_score</th>\n",
       "      <th>params</th>\n",
       "    </tr>\n",
       "  </thead>\n",
       "  <tbody>\n",
       "    <tr>\n",
       "      <th>11</th>\n",
       "      <td>0.999639</td>\n",
       "      <td>{'criterion': 'entropy', 'max_depth': 10}</td>\n",
       "    </tr>\n",
       "    <tr>\n",
       "      <th>4</th>\n",
       "      <td>0.999519</td>\n",
       "      <td>{'criterion': 'gini', 'max_depth': 8}</td>\n",
       "    </tr>\n",
       "    <tr>\n",
       "      <th>6</th>\n",
       "      <td>0.999519</td>\n",
       "      <td>{'criterion': 'entropy', 'max_depth': 4}</td>\n",
       "    </tr>\n",
       "    <tr>\n",
       "      <th>7</th>\n",
       "      <td>0.999519</td>\n",
       "      <td>{'criterion': 'entropy', 'max_depth': 5}</td>\n",
       "    </tr>\n",
       "    <tr>\n",
       "      <th>9</th>\n",
       "      <td>0.999519</td>\n",
       "      <td>{'criterion': 'entropy', 'max_depth': 7}</td>\n",
       "    </tr>\n",
       "    <tr>\n",
       "      <th>1</th>\n",
       "      <td>0.999459</td>\n",
       "      <td>{'criterion': 'gini', 'max_depth': 5}</td>\n",
       "    </tr>\n",
       "    <tr>\n",
       "      <th>3</th>\n",
       "      <td>0.999399</td>\n",
       "      <td>{'criterion': 'gini', 'max_depth': 7}</td>\n",
       "    </tr>\n",
       "    <tr>\n",
       "      <th>10</th>\n",
       "      <td>0.999339</td>\n",
       "      <td>{'criterion': 'entropy', 'max_depth': 8}</td>\n",
       "    </tr>\n",
       "    <tr>\n",
       "      <th>8</th>\n",
       "      <td>0.999279</td>\n",
       "      <td>{'criterion': 'entropy', 'max_depth': 6}</td>\n",
       "    </tr>\n",
       "    <tr>\n",
       "      <th>2</th>\n",
       "      <td>0.999159</td>\n",
       "      <td>{'criterion': 'gini', 'max_depth': 6}</td>\n",
       "    </tr>\n",
       "    <tr>\n",
       "      <th>5</th>\n",
       "      <td>0.999159</td>\n",
       "      <td>{'criterion': 'gini', 'max_depth': 10}</td>\n",
       "    </tr>\n",
       "    <tr>\n",
       "      <th>0</th>\n",
       "      <td>0.999099</td>\n",
       "      <td>{'criterion': 'gini', 'max_depth': 4}</td>\n",
       "    </tr>\n",
       "  </tbody>\n",
       "</table>\n",
       "</div>"
      ],
      "text/plain": [
       "    mean_test_score                                     params\n",
       "11         0.999639  {'criterion': 'entropy', 'max_depth': 10}\n",
       "4          0.999519      {'criterion': 'gini', 'max_depth': 8}\n",
       "6          0.999519   {'criterion': 'entropy', 'max_depth': 4}\n",
       "7          0.999519   {'criterion': 'entropy', 'max_depth': 5}\n",
       "9          0.999519   {'criterion': 'entropy', 'max_depth': 7}\n",
       "1          0.999459      {'criterion': 'gini', 'max_depth': 5}\n",
       "3          0.999399      {'criterion': 'gini', 'max_depth': 7}\n",
       "10         0.999339   {'criterion': 'entropy', 'max_depth': 8}\n",
       "8          0.999279   {'criterion': 'entropy', 'max_depth': 6}\n",
       "2          0.999159      {'criterion': 'gini', 'max_depth': 6}\n",
       "5          0.999159     {'criterion': 'gini', 'max_depth': 10}\n",
       "0          0.999099      {'criterion': 'gini', 'max_depth': 4}"
      ]
     },
     "execution_count": 36,
     "metadata": {},
     "output_type": "execute_result"
    }
   ],
   "source": [
    "dt = DecisionTreeClassifier()\n",
    "\n",
    "param_dist = {\n",
    "    'max_depth' : [4 , 5 , 6 , 7 , 8 , 10],\n",
    "    'criterion' : ['gini', 'entropy']\n",
    "    }\n",
    "\n",
    "random_search = GridSearchCV(estimator = dt,\n",
    "                            param_grid = param_dist,\n",
    "                            cv = 5,\n",
    "                            n_jobs=-1\n",
    "                            )\n",
    "random_search.fit(x_train, y_train)\n",
    "\n",
    "cv_results = pd.DataFrame(random_search.cv_results_)\n",
    "cv_results = cv_results[[\"mean_test_score\", \"params\"]].sort_values(by=\"mean_test_score\", ascending=False)\n",
    "\n",
    "cv_results "
   ]
  },
  {
   "cell_type": "code",
   "execution_count": 37,
   "metadata": {},
   "outputs": [
    {
     "name": "stdout",
     "output_type": "stream",
     "text": [
      "              precision    recall  f1-score   support\n",
      "\n",
      "           0       1.00      1.00      1.00      1918\n",
      "           4       1.00      1.00      1.00      2242\n",
      "\n",
      "    accuracy                           1.00      4160\n",
      "   macro avg       1.00      1.00      1.00      4160\n",
      "weighted avg       1.00      1.00      1.00      4160\n",
      "\n"
     ]
    }
   ],
   "source": [
    "dt = DecisionTreeClassifier(max_depth = 10 , criterion= 'entropy')\n",
    "dt.fit(x_train , y_train)\n",
    "dt.score(x_val , y_val)\n",
    "dt_report = classification_report(dt.predict(x_val) , y_val)\n",
    "print(dt_report)"
   ]
  },
  {
   "cell_type": "code",
   "execution_count": 38,
   "metadata": {},
   "outputs": [
    {
     "name": "stdout",
     "output_type": "stream",
     "text": [
      "              precision    recall  f1-score   support\n",
      "\n",
      "           0       1.00      1.00      1.00      7680\n",
      "           4       1.00      1.00      1.00      8960\n",
      "\n",
      "    accuracy                           1.00     16640\n",
      "   macro avg       1.00      1.00      1.00     16640\n",
      "weighted avg       1.00      1.00      1.00     16640\n",
      "\n"
     ]
    }
   ],
   "source": [
    "dt_train_report = classification_report(dt.predict(x_train) , y_train)\n",
    "print(dt_train_report)"
   ]
  },
  {
   "cell_type": "code",
   "execution_count": 39,
   "metadata": {},
   "outputs": [
    {
     "name": "stdout",
     "output_type": "stream",
     "text": [
      "              precision    recall  f1-score   support\n",
      "\n",
      "           0       1.00      1.00      1.00      2399\n",
      "           4       1.00      1.00      1.00      2801\n",
      "\n",
      "    accuracy                           1.00      5200\n",
      "   macro avg       1.00      1.00      1.00      5200\n",
      "weighted avg       1.00      1.00      1.00      5200\n",
      "\n"
     ]
    }
   ],
   "source": [
    "dt_test_report = classification_report(dt.predict(x_test) , y_test)\n",
    "print(dt_test_report)"
   ]
  },
  {
   "cell_type": "code",
   "execution_count": 40,
   "metadata": {},
   "outputs": [
    {
     "name": "stdout",
     "output_type": "stream",
     "text": [
      "1377\n"
     ]
    }
   ],
   "source": [
    "with open(os.getcwd().replace('/notebook' , '') + \"/model/surface_model.py\" , \"w\") as f:\n",
    "  f.write(m2cgen.export_to_python(dt))\n",
    "print(os.path.getsize(os.getcwd().replace('/notebook' , '') + \"/model/surface_model.py\" ))"
   ]
  }
 ],
 "metadata": {
  "kernelspec": {
   "display_name": "base",
   "language": "python",
   "name": "python3"
  },
  "language_info": {
   "codemirror_mode": {
    "name": "ipython",
    "version": 3
   },
   "file_extension": ".py",
   "mimetype": "text/x-python",
   "name": "python",
   "nbconvert_exporter": "python",
   "pygments_lexer": "ipython3",
   "version": "3.12.4"
  }
 },
 "nbformat": 4,
 "nbformat_minor": 2
}
