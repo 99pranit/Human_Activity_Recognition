{
 "cells": [
  {
   "cell_type": "markdown",
   "metadata": {},
   "source": [
    "## Import Libraries"
   ]
  },
  {
   "cell_type": "code",
   "execution_count": 1,
   "metadata": {},
   "outputs": [],
   "source": [
    "import pandas as pd\n",
    "import os\n",
    "pd.set_option('display.max_columns', None)  # Show all columns\n",
    "pd.set_option('display.max_rows', None)  # Show all rows\n",
    "pd.set_option('display.max_colwidth', None)  # Show full content in each cell\n",
    "pd.set_option('display.width', 1000)  # Set max width"
   ]
  },
  {
   "cell_type": "markdown",
   "metadata": {},
   "source": [
    "## Load Data"
   ]
  },
  {
   "cell_type": "code",
   "execution_count": 2,
   "metadata": {},
   "outputs": [],
   "source": [
    "dataset_path = os.getcwd().replace('/notebook' , '') + \"/dataset/\"\n",
    "\n",
    "walking_df = pd.read_csv(dataset_path + \"walking.csv\")\n",
    "downstairs_df = pd.read_csv(dataset_path + \"downstairs.csv\")\n",
    "upstairs_df = pd.read_csv(dataset_path + \"upstairs.csv\")\n",
    "sitting_df = pd.read_csv(dataset_path + \"sitting.csv\")\n",
    "jogging_df = pd.read_csv(dataset_path + \"jogging.csv\")\n",
    "standing_df = pd.read_csv(dataset_path + \"standing.csv\")\n",
    "sleeping_df = pd.read_csv(dataset_path + \"sleeping.csv\")\n",
    "\n",
    "walking_df['Target'] = 0\n",
    "jogging_df['Target'] = 1\n",
    "downstairs_df['Target'] = 2\n",
    "upstairs_df['Target'] = 3\n",
    "sitting_df['Target'] = 4\n",
    "standing_df['Target'] = 5\n",
    "sleeping_df['Target'] = 6\n",
    "\n",
    "test_df  = pd.concat([walking_df , downstairs_df , upstairs_df , sitting_df , jogging_df , standing_df , sleeping_df] , axis=0)\n",
    "\n",
    "test_df.columns = test_df.columns.str.replace(\"'\", '')\n",
    "test_df.to_csv('imu_data.csv')"
   ]
  },
  {
   "cell_type": "markdown",
   "metadata": {},
   "source": [
    "# Load Data V2"
   ]
  },
  {
   "cell_type": "code",
   "execution_count": 2,
   "metadata": {},
   "outputs": [],
   "source": [
    "dataset_path = os.getcwd().replace('/notebook' , '') + \"/dataset/\"\n",
    "\n",
    "walking_df = pd.read_csv(dataset_path + \"walking_v2.csv\")\n",
    "downstairs_df = pd.read_csv(dataset_path + \"downstairs_v2.csv\")\n",
    "upstairs_df = pd.read_csv(dataset_path + \"upstairs_v2.csv\")\n",
    "sitting_df = pd.read_csv(dataset_path + \"sitting_v2.csv\")\n",
    "jogging_df = pd.read_csv(dataset_path + \"jogging_v2.csv\")\n",
    "standing_df = pd.read_csv(dataset_path + \"standing_v2.csv\")\n",
    "sleeping_df = pd.read_csv(dataset_path + \"sleeping_v2.csv\")\n",
    "\n",
    "walking_df['Target'] = 0\n",
    "jogging_df['Target'] = 1\n",
    "downstairs_df['Target'] = 2\n",
    "upstairs_df['Target'] = 3\n",
    "sitting_df['Target'] = 4\n",
    "standing_df['Target'] = 5\n",
    "sleeping_df['Target'] = 6\n",
    "\n",
    "test_df  = pd.concat([walking_df , downstairs_df , upstairs_df , sitting_df , jogging_df , standing_df , sleeping_df] , axis=0)\n",
    "\n",
    "test_df.columns = test_df.columns.str.replace(\"'\", '')\n",
    "test_df.to_csv('imu_data_v2.csv')"
   ]
  }
 ],
 "metadata": {
  "kernelspec": {
   "display_name": "Python 3",
   "language": "python",
   "name": "python3"
  },
  "language_info": {
   "codemirror_mode": {
    "name": "ipython",
    "version": 3
   },
   "file_extension": ".py",
   "mimetype": "text/x-python",
   "name": "python",
   "nbconvert_exporter": "python",
   "pygments_lexer": "ipython3",
   "version": "3.10.12"
  }
 },
 "nbformat": 4,
 "nbformat_minor": 2
}
