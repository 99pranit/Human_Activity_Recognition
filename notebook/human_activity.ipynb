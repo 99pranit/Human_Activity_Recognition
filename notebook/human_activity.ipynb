{
 "cells": [
  {
   "cell_type": "markdown",
   "metadata": {},
   "source": [
    "## Import Libraries"
   ]
  },
  {
   "cell_type": "code",
   "execution_count": 27,
   "metadata": {},
   "outputs": [],
   "source": [
    "import pandas as pd\n",
    "import numpy as np\n",
    "from sklearn.preprocessing import MinMaxScaler , LabelEncoder\n",
    "from sklearn.model_selection import train_test_split , RandomizedSearchCV\n",
    "from sklearn.tree import DecisionTreeClassifier\n",
    "from sklearn.ensemble import RandomForestClassifier\n",
    "from sklearn.metrics import classification_report\n",
    "import m2cgen\n",
    "import os\n",
    "import matplotlib.pyplot as plt\n",
    "from xgboost import XGBClassifier\n",
    "pd.set_option('display.max_columns', None)  # Show all columns\n",
    "pd.set_option('display.max_rows', None)  # Show all rows\n",
    "pd.set_option('display.max_colwidth', None)  # Show full content in each cell\n",
    "pd.set_option('display.width', 1000)  # Set max width"
   ]
  },
  {
   "cell_type": "markdown",
   "metadata": {},
   "source": [
    "## Load Data"
   ]
  },
  {
   "cell_type": "code",
   "execution_count": 11,
   "metadata": {},
   "outputs": [],
   "source": [
    "dataset_path = os.getcwd().replace('/notebook' , '') + \"/dataset/\"\n",
    "\n",
    "# Read training data\n",
    "train_df = pd.read_csv(dataset_path + \"train.csv\")\n",
    "x = train_df.iloc[:,:-1]\n",
    "y = train_df.iloc[:,-1]\n",
    "scaler = MinMaxScaler() # Load Scaler module\n",
    "x_scaled = scaler.fit_transform(x)\n",
    "x_train , x_val , y_train , y_val = train_test_split(x_scaled ,y ,test_size= 0.2, stratify = y)\n",
    "\n",
    "# Read testing data\n",
    "test_df = pd.read_csv(dataset_path + \"test.csv\")\n",
    "x_test = test_df.iloc[:,:-1]\n",
    "y_test = test_df.iloc[:,-1]\n",
    "x_test_scaled = scaler.transform(x_test)\n",
    "\n",
    "# Encode target labels to numeric values\n",
    "label_encoder = LabelEncoder()\n",
    "y_train_encoded = label_encoder.fit_transform(y_train)\n",
    "y_val_encoded = label_encoder.fit_transform(y_val)\n",
    "y_test_encoded = label_encoder.transform(y_test)"
   ]
  },
  {
   "cell_type": "markdown",
   "metadata": {},
   "source": [
    "## Modeling"
   ]
  },
  {
   "cell_type": "markdown",
   "metadata": {},
   "source": [
    "### Random Forest"
   ]
  },
  {
   "cell_type": "code",
   "execution_count": null,
   "metadata": {},
   "outputs": [
    {
     "data": {
      "text/html": [
       "<div>\n",
       "<style scoped>\n",
       "    .dataframe tbody tr th:only-of-type {\n",
       "        vertical-align: middle;\n",
       "    }\n",
       "\n",
       "    .dataframe tbody tr th {\n",
       "        vertical-align: top;\n",
       "    }\n",
       "\n",
       "    .dataframe thead th {\n",
       "        text-align: right;\n",
       "    }\n",
       "</style>\n",
       "<table border=\"1\" class=\"dataframe\">\n",
       "  <thead>\n",
       "    <tr style=\"text-align: right;\">\n",
       "      <th></th>\n",
       "      <th>mean_test_score</th>\n",
       "      <th>params</th>\n",
       "    </tr>\n",
       "  </thead>\n",
       "  <tbody>\n",
       "    <tr>\n",
       "      <th>6</th>\n",
       "      <td>0.948817</td>\n",
       "      <td>{'n_estimators': 7, 'max_depth': 7}</td>\n",
       "    </tr>\n",
       "    <tr>\n",
       "      <th>0</th>\n",
       "      <td>0.938955</td>\n",
       "      <td>{'n_estimators': 5, 'max_depth': 7}</td>\n",
       "    </tr>\n",
       "    <tr>\n",
       "      <th>2</th>\n",
       "      <td>0.922803</td>\n",
       "      <td>{'n_estimators': 10, 'max_depth': 5}</td>\n",
       "    </tr>\n",
       "    <tr>\n",
       "      <th>7</th>\n",
       "      <td>0.873659</td>\n",
       "      <td>{'n_estimators': 1, 'max_depth': 7}</td>\n",
       "    </tr>\n",
       "    <tr>\n",
       "      <th>1</th>\n",
       "      <td>0.869581</td>\n",
       "      <td>{'n_estimators': 5, 'max_depth': 3}</td>\n",
       "    </tr>\n",
       "    <tr>\n",
       "      <th>3</th>\n",
       "      <td>0.861422</td>\n",
       "      <td>{'n_estimators': 10, 'max_depth': 3}</td>\n",
       "    </tr>\n",
       "    <tr>\n",
       "      <th>5</th>\n",
       "      <td>0.750394</td>\n",
       "      <td>{'n_estimators': 5, 'max_depth': 2}</td>\n",
       "    </tr>\n",
       "    <tr>\n",
       "      <th>8</th>\n",
       "      <td>0.737637</td>\n",
       "      <td>{'n_estimators': 1, 'max_depth': 3}</td>\n",
       "    </tr>\n",
       "    <tr>\n",
       "      <th>4</th>\n",
       "      <td>0.641373</td>\n",
       "      <td>{'n_estimators': 3, 'max_depth': 2}</td>\n",
       "    </tr>\n",
       "    <tr>\n",
       "      <th>9</th>\n",
       "      <td>0.360484</td>\n",
       "      <td>{'n_estimators': 1, 'max_depth': 1}</td>\n",
       "    </tr>\n",
       "  </tbody>\n",
       "</table>\n",
       "</div>"
      ],
      "text/plain": [
       "   mean_test_score                                params\n",
       "6         0.948817   {'n_estimators': 7, 'max_depth': 7}\n",
       "0         0.938955   {'n_estimators': 5, 'max_depth': 7}\n",
       "2         0.922803  {'n_estimators': 10, 'max_depth': 5}\n",
       "7         0.873659   {'n_estimators': 1, 'max_depth': 7}\n",
       "1         0.869581   {'n_estimators': 5, 'max_depth': 3}\n",
       "3         0.861422  {'n_estimators': 10, 'max_depth': 3}\n",
       "5         0.750394   {'n_estimators': 5, 'max_depth': 2}\n",
       "8         0.737637   {'n_estimators': 1, 'max_depth': 3}\n",
       "4         0.641373   {'n_estimators': 3, 'max_depth': 2}\n",
       "9         0.360484   {'n_estimators': 1, 'max_depth': 1}"
      ]
     },
     "execution_count": 29,
     "metadata": {},
     "output_type": "execute_result"
    }
   ],
   "source": [
    "rf = RandomForestClassifier()\n",
    "\n",
    "param_dist = {\n",
    "    'n_estimators' : [1 , 2 , 3 , 5 , 7 , 10],\n",
    "    'max_depth' : [1 , 2 , 3  , 5 , 7]\n",
    "    }\n",
    "\n",
    "random_search = RandomizedSearchCV(estimator = rf,\n",
    "                                    param_distributions = param_dist,\n",
    "                                    cv = 5,\n",
    "                                    random_state=42,\n",
    "                                    n_jobs=-1\n",
    "                                    )\n",
    "random_search.fit(x_train, y_train)\n",
    "\n",
    "cv_results = pd.DataFrame(random_search.cv_results_)\n",
    "cv_results = cv_results[[\"mean_test_score\", \"params\"]].sort_values(by=\"mean_test_score\", ascending=False)\n",
    "\n",
    "cv_results "
   ]
  },
  {
   "cell_type": "code",
   "execution_count": 47,
   "metadata": {},
   "outputs": [
    {
     "name": "stdout",
     "output_type": "stream",
     "text": [
      "                    precision    recall  f1-score   support\n",
      "\n",
      "            LAYING       1.00      1.00      1.00       282\n",
      "           SITTING       0.87      0.87      0.87       255\n",
      "          STANDING       0.88      0.88      0.88       277\n",
      "           WALKING       0.95      0.73      0.83       316\n",
      "WALKING_DOWNSTAIRS       0.86      0.86      0.86       198\n",
      "  WALKING_UPSTAIRS       0.59      0.88      0.70       143\n",
      "\n",
      "          accuracy                           0.87      1471\n",
      "         macro avg       0.86      0.87      0.86      1471\n",
      "      weighted avg       0.89      0.87      0.87      1471\n",
      "\n"
     ]
    }
   ],
   "source": [
    "rf = RandomForestClassifier(n_estimators = 5 , max_depth = 3)\n",
    "rf.fit(x_train , y_train)\n",
    "rf.score(x_val , y_val)\n",
    "rf_report = classification_report(rf.predict(x_val) , y_val)\n",
    "print(rf_report)"
   ]
  },
  {
   "cell_type": "code",
   "execution_count": 48,
   "metadata": {},
   "outputs": [
    {
     "name": "stdout",
     "output_type": "stream",
     "text": [
      "                    precision    recall  f1-score   support\n",
      "\n",
      "            LAYING       1.00      1.00      1.00      1123\n",
      "           SITTING       0.85      0.88      0.86       988\n",
      "          STANDING       0.89      0.86      0.88      1139\n",
      "           WALKING       0.95      0.74      0.83      1251\n",
      "WALKING_DOWNSTAIRS       0.82      0.90      0.86       723\n",
      "  WALKING_UPSTAIRS       0.66      0.87      0.75       657\n",
      "\n",
      "          accuracy                           0.87      5881\n",
      "         macro avg       0.86      0.88      0.86      5881\n",
      "      weighted avg       0.88      0.87      0.87      5881\n",
      "\n"
     ]
    }
   ],
   "source": [
    "rf_train_report = classification_report(rf.predict(x_train) , y_train)\n",
    "print(rf_train_report)"
   ]
  },
  {
   "cell_type": "code",
   "execution_count": 49,
   "metadata": {},
   "outputs": [
    {
     "name": "stdout",
     "output_type": "stream",
     "text": [
      "                    precision    recall  f1-score   support\n",
      "\n",
      "            LAYING       1.00      1.00      1.00       536\n",
      "           SITTING       0.82      0.88      0.85       459\n",
      "          STANDING       0.89      0.84      0.87       564\n",
      "           WALKING       0.93      0.67      0.78       688\n",
      "WALKING_DOWNSTAIRS       0.67      0.93      0.78       303\n",
      "  WALKING_UPSTAIRS       0.65      0.77      0.71       397\n",
      "\n",
      "          accuracy                           0.84      2947\n",
      "         macro avg       0.83      0.85      0.83      2947\n",
      "      weighted avg       0.85      0.84      0.84      2947\n",
      "\n"
     ]
    }
   ],
   "source": [
    "rf_test_report = classification_report(rf.predict(x_test_scaled) , y_test)\n",
    "print(rf_test_report)"
   ]
  },
  {
   "cell_type": "code",
   "execution_count": 50,
   "metadata": {},
   "outputs": [
    {
     "name": "stdout",
     "output_type": "stream",
     "text": [
      "5016\n"
     ]
    }
   ],
   "source": [
    "with open(os.getcwd().replace('/notebook' , '') + \"/model/rf_model.py\" , \"w\") as f:\n",
    "  f.write(m2cgen.export_to_python(rf))\n",
    "print(os.path.getsize(os.getcwd().replace('/notebook' , '') + \"/model/rf_model.py\" ))"
   ]
  },
  {
   "cell_type": "markdown",
   "metadata": {},
   "source": [
    "### Decison Tree"
   ]
  },
  {
   "cell_type": "code",
   "execution_count": 58,
   "metadata": {},
   "outputs": [
    {
     "data": {
      "text/html": [
       "<div>\n",
       "<style scoped>\n",
       "    .dataframe tbody tr th:only-of-type {\n",
       "        vertical-align: middle;\n",
       "    }\n",
       "\n",
       "    .dataframe tbody tr th {\n",
       "        vertical-align: top;\n",
       "    }\n",
       "\n",
       "    .dataframe thead th {\n",
       "        text-align: right;\n",
       "    }\n",
       "</style>\n",
       "<table border=\"1\" class=\"dataframe\">\n",
       "  <thead>\n",
       "    <tr style=\"text-align: right;\">\n",
       "      <th></th>\n",
       "      <th>mean_test_score</th>\n",
       "      <th>params</th>\n",
       "    </tr>\n",
       "  </thead>\n",
       "  <tbody>\n",
       "    <tr>\n",
       "      <th>2</th>\n",
       "      <td>0.938616</td>\n",
       "      <td>{'max_depth': 10, 'criterion': 'gini'}</td>\n",
       "    </tr>\n",
       "    <tr>\n",
       "      <th>3</th>\n",
       "      <td>0.937765</td>\n",
       "      <td>{'max_depth': 15, 'criterion': 'entropy'}</td>\n",
       "    </tr>\n",
       "    <tr>\n",
       "      <th>9</th>\n",
       "      <td>0.936405</td>\n",
       "      <td>{'max_depth': 20, 'criterion': 'entropy'}</td>\n",
       "    </tr>\n",
       "    <tr>\n",
       "      <th>4</th>\n",
       "      <td>0.936234</td>\n",
       "      <td>{'max_depth': 10, 'criterion': 'entropy'}</td>\n",
       "    </tr>\n",
       "    <tr>\n",
       "      <th>5</th>\n",
       "      <td>0.911577</td>\n",
       "      <td>{'max_depth': 5, 'criterion': 'entropy'}</td>\n",
       "    </tr>\n",
       "    <tr>\n",
       "      <th>8</th>\n",
       "      <td>0.786091</td>\n",
       "      <td>{'max_depth': 3, 'criterion': 'gini'}</td>\n",
       "    </tr>\n",
       "    <tr>\n",
       "      <th>7</th>\n",
       "      <td>0.652610</td>\n",
       "      <td>{'max_depth': 2, 'criterion': 'entropy'}</td>\n",
       "    </tr>\n",
       "    <tr>\n",
       "      <th>1</th>\n",
       "      <td>0.544465</td>\n",
       "      <td>{'max_depth': 2, 'criterion': 'gini'}</td>\n",
       "    </tr>\n",
       "    <tr>\n",
       "      <th>0</th>\n",
       "      <td>0.377827</td>\n",
       "      <td>{'max_depth': 1, 'criterion': 'gini'}</td>\n",
       "    </tr>\n",
       "    <tr>\n",
       "      <th>6</th>\n",
       "      <td>0.357762</td>\n",
       "      <td>{'max_depth': 1, 'criterion': 'entropy'}</td>\n",
       "    </tr>\n",
       "  </tbody>\n",
       "</table>\n",
       "</div>"
      ],
      "text/plain": [
       "   mean_test_score                                     params\n",
       "2         0.938616     {'max_depth': 10, 'criterion': 'gini'}\n",
       "3         0.937765  {'max_depth': 15, 'criterion': 'entropy'}\n",
       "9         0.936405  {'max_depth': 20, 'criterion': 'entropy'}\n",
       "4         0.936234  {'max_depth': 10, 'criterion': 'entropy'}\n",
       "5         0.911577   {'max_depth': 5, 'criterion': 'entropy'}\n",
       "8         0.786091      {'max_depth': 3, 'criterion': 'gini'}\n",
       "7         0.652610   {'max_depth': 2, 'criterion': 'entropy'}\n",
       "1         0.544465      {'max_depth': 2, 'criterion': 'gini'}\n",
       "0         0.377827      {'max_depth': 1, 'criterion': 'gini'}\n",
       "6         0.357762   {'max_depth': 1, 'criterion': 'entropy'}"
      ]
     },
     "execution_count": 58,
     "metadata": {},
     "output_type": "execute_result"
    }
   ],
   "source": [
    "dt = DecisionTreeClassifier()\n",
    "\n",
    "param_dist = {\n",
    "    'max_depth' : [1 , 2 , 3  , 5 , 7 , 10 , 15 , 20],\n",
    "    'criterion' : ['gini' , 'entropy']\n",
    "    }\n",
    "\n",
    "random_search = RandomizedSearchCV(estimator = dt,\n",
    "                                    param_distributions = param_dist,\n",
    "                                    cv = 5,\n",
    "                                    random_state=42,\n",
    "                                    n_jobs=-1\n",
    "                                    )\n",
    "random_search.fit(x_train, y_train)\n",
    "\n",
    "cv_results = pd.DataFrame(random_search.cv_results_)\n",
    "cv_results = cv_results[[\"mean_test_score\", \"params\"]].sort_values(by=\"mean_test_score\", ascending=False)\n",
    "\n",
    "cv_results "
   ]
  },
  {
   "cell_type": "code",
   "execution_count": 59,
   "metadata": {},
   "outputs": [
    {
     "name": "stdout",
     "output_type": "stream",
     "text": [
      "                    precision    recall  f1-score   support\n",
      "\n",
      "            LAYING       1.00      1.00      1.00       282\n",
      "           SITTING       0.93      0.95      0.94       253\n",
      "          STANDING       0.95      0.94      0.95       279\n",
      "           WALKING       0.94      0.91      0.92       253\n",
      "WALKING_DOWNSTAIRS       0.92      0.95      0.93       191\n",
      "  WALKING_UPSTAIRS       0.92      0.92      0.92       213\n",
      "\n",
      "          accuracy                           0.95      1471\n",
      "         macro avg       0.94      0.94      0.94      1471\n",
      "      weighted avg       0.95      0.95      0.95      1471\n",
      "\n"
     ]
    }
   ],
   "source": [
    "dt = DecisionTreeClassifier(criterion = 'gini' , max_depth = 10)\n",
    "dt.fit(x_train , y_train)\n",
    "dt.score(x_val , y_val)\n",
    "dt_report = classification_report(dt.predict(x_val) , y_val)\n",
    "print(dt_report)"
   ]
  },
  {
   "cell_type": "code",
   "execution_count": 60,
   "metadata": {},
   "outputs": [
    {
     "name": "stdout",
     "output_type": "stream",
     "text": [
      "                    precision    recall  f1-score   support\n",
      "\n",
      "            LAYING       1.00      1.00      1.00      1125\n",
      "           SITTING       0.99      0.99      0.99      1025\n",
      "          STANDING       0.99      0.99      0.99      1103\n",
      "           WALKING       0.99      0.99      0.99       983\n",
      "WALKING_DOWNSTAIRS       0.99      0.99      0.99       787\n",
      "  WALKING_UPSTAIRS       0.99      0.99      0.99       858\n",
      "\n",
      "          accuracy                           0.99      5881\n",
      "         macro avg       0.99      0.99      0.99      5881\n",
      "      weighted avg       0.99      0.99      0.99      5881\n",
      "\n"
     ]
    }
   ],
   "source": [
    "dt_train_report = classification_report(dt.predict(x_train) , y_train)\n",
    "print(dt_train_report)"
   ]
  },
  {
   "cell_type": "code",
   "execution_count": 61,
   "metadata": {},
   "outputs": [
    {
     "name": "stdout",
     "output_type": "stream",
     "text": [
      "                    precision    recall  f1-score   support\n",
      "\n",
      "            LAYING       1.00      1.00      1.00       537\n",
      "           SITTING       0.79      0.83      0.81       469\n",
      "          STANDING       0.85      0.82      0.83       554\n",
      "           WALKING       0.93      0.81      0.86       568\n",
      "WALKING_DOWNSTAIRS       0.77      0.86      0.81       376\n",
      "  WALKING_UPSTAIRS       0.76      0.81      0.78       443\n",
      "\n",
      "          accuracy                           0.85      2947\n",
      "         macro avg       0.85      0.85      0.85      2947\n",
      "      weighted avg       0.86      0.85      0.85      2947\n",
      "\n"
     ]
    }
   ],
   "source": [
    "dt_test_report = classification_report(dt.predict(x_test_scaled) , y_test)\n",
    "print(dt_test_report)"
   ]
  },
  {
   "cell_type": "code",
   "execution_count": 62,
   "metadata": {},
   "outputs": [
    {
     "name": "stdout",
     "output_type": "stream",
     "text": [
      "19063\n"
     ]
    }
   ],
   "source": [
    "with open(os.getcwd().replace('/notebook' , '') + \"/model/dt_model.py\" , \"w\") as f:\n",
    "  f.write(m2cgen.export_to_python(dt))\n",
    "print(os.path.getsize(os.getcwd().replace('/notebook' , '') + \"/model/dt_model.py\" ))"
   ]
  },
  {
   "cell_type": "markdown",
   "metadata": {},
   "source": [
    "### XGBOOST"
   ]
  },
  {
   "cell_type": "code",
   "execution_count": 10,
   "metadata": {},
   "outputs": [
    {
     "name": "stderr",
     "output_type": "stream",
     "text": [
      "/opt/anaconda3/envs/pranit/lib/python3.12/site-packages/joblib/externals/loky/process_executor.py:752: UserWarning: A worker stopped while some jobs were given to the executor. This can be caused by a too short worker timeout or by a memory leak.\n",
      "  warnings.warn(\n"
     ]
    },
    {
     "data": {
      "text/html": [
       "<div>\n",
       "<style scoped>\n",
       "    .dataframe tbody tr th:only-of-type {\n",
       "        vertical-align: middle;\n",
       "    }\n",
       "\n",
       "    .dataframe tbody tr th {\n",
       "        vertical-align: top;\n",
       "    }\n",
       "\n",
       "    .dataframe thead th {\n",
       "        text-align: right;\n",
       "    }\n",
       "</style>\n",
       "<table border=\"1\" class=\"dataframe\">\n",
       "  <thead>\n",
       "    <tr style=\"text-align: right;\">\n",
       "      <th></th>\n",
       "      <th>mean_test_score</th>\n",
       "      <th>params</th>\n",
       "    </tr>\n",
       "  </thead>\n",
       "  <tbody>\n",
       "    <tr>\n",
       "      <th>3</th>\n",
       "      <td>0.962082</td>\n",
       "      <td>{'n_estimators': 7, 'max_depth': 2, 'learning_rate': 1}</td>\n",
       "    </tr>\n",
       "    <tr>\n",
       "      <th>2</th>\n",
       "      <td>0.961742</td>\n",
       "      <td>{'n_estimators': 2, 'max_depth': 7, 'learning_rate': 0.3}</td>\n",
       "    </tr>\n",
       "    <tr>\n",
       "      <th>7</th>\n",
       "      <td>0.948989</td>\n",
       "      <td>{'n_estimators': 10, 'max_depth': 1, 'learning_rate': 1}</td>\n",
       "    </tr>\n",
       "    <tr>\n",
       "      <th>5</th>\n",
       "      <td>0.945589</td>\n",
       "      <td>{'n_estimators': 3, 'max_depth': 7, 'learning_rate': 0.01}</td>\n",
       "    </tr>\n",
       "    <tr>\n",
       "      <th>1</th>\n",
       "      <td>0.940486</td>\n",
       "      <td>{'n_estimators': 7, 'max_depth': 5, 'learning_rate': 0.01}</td>\n",
       "    </tr>\n",
       "    <tr>\n",
       "      <th>0</th>\n",
       "      <td>0.938445</td>\n",
       "      <td>{'n_estimators': 7, 'max_depth': 2, 'learning_rate': 0.3}</td>\n",
       "    </tr>\n",
       "    <tr>\n",
       "      <th>9</th>\n",
       "      <td>0.935725</td>\n",
       "      <td>{'n_estimators': 3, 'max_depth': 3, 'learning_rate': 0.3}</td>\n",
       "    </tr>\n",
       "    <tr>\n",
       "      <th>6</th>\n",
       "      <td>0.929433</td>\n",
       "      <td>{'n_estimators': 5, 'max_depth': 2, 'learning_rate': 0.3}</td>\n",
       "    </tr>\n",
       "    <tr>\n",
       "      <th>8</th>\n",
       "      <td>0.876213</td>\n",
       "      <td>{'n_estimators': 7, 'max_depth': 2, 'learning_rate': 0.01}</td>\n",
       "    </tr>\n",
       "    <tr>\n",
       "      <th>4</th>\n",
       "      <td>0.745450</td>\n",
       "      <td>{'n_estimators': 1, 'max_depth': 1, 'learning_rate': 0.01}</td>\n",
       "    </tr>\n",
       "  </tbody>\n",
       "</table>\n",
       "</div>"
      ],
      "text/plain": [
       "   mean_test_score                                                      params\n",
       "3         0.962082     {'n_estimators': 7, 'max_depth': 2, 'learning_rate': 1}\n",
       "2         0.961742   {'n_estimators': 2, 'max_depth': 7, 'learning_rate': 0.3}\n",
       "7         0.948989    {'n_estimators': 10, 'max_depth': 1, 'learning_rate': 1}\n",
       "5         0.945589  {'n_estimators': 3, 'max_depth': 7, 'learning_rate': 0.01}\n",
       "1         0.940486  {'n_estimators': 7, 'max_depth': 5, 'learning_rate': 0.01}\n",
       "0         0.938445   {'n_estimators': 7, 'max_depth': 2, 'learning_rate': 0.3}\n",
       "9         0.935725   {'n_estimators': 3, 'max_depth': 3, 'learning_rate': 0.3}\n",
       "6         0.929433   {'n_estimators': 5, 'max_depth': 2, 'learning_rate': 0.3}\n",
       "8         0.876213  {'n_estimators': 7, 'max_depth': 2, 'learning_rate': 0.01}\n",
       "4         0.745450  {'n_estimators': 1, 'max_depth': 1, 'learning_rate': 0.01}"
      ]
     },
     "execution_count": 10,
     "metadata": {},
     "output_type": "execute_result"
    }
   ],
   "source": [
    "xgb = XGBClassifier()\n",
    "\n",
    "param_dist = {\n",
    "    'n_estimators' : [1 , 2 , 3 , 5 , 7 , 10],\n",
    "    'max_depth' : [1 , 2 , 3  , 5 , 7],\n",
    "    \"learning_rate\": [0.01, 0.3, 1]\n",
    "    }\n",
    "\n",
    "random_search = RandomizedSearchCV(estimator = xgb,\n",
    "                                    param_distributions = param_dist,\n",
    "                                    cv = 5,\n",
    "                                    random_state=42,\n",
    "                                    n_jobs=-1\n",
    "                                    )\n",
    "random_search.fit(x_train, y_train_encoded)\n",
    "\n",
    "cv_results = pd.DataFrame(random_search.cv_results_)\n",
    "cv_results = cv_results[[\"mean_test_score\", \"params\"]].sort_values(by=\"mean_test_score\", ascending=False)\n",
    "\n",
    "cv_results "
   ]
  },
  {
   "cell_type": "code",
   "execution_count": 25,
   "metadata": {},
   "outputs": [
    {
     "name": "stdout",
     "output_type": "stream",
     "text": [
      "                    precision    recall  f1-score   support\n",
      "\n",
      "            LAYING       1.00      1.00      1.00       282\n",
      "           SITTING       0.93      0.95      0.94       251\n",
      "          STANDING       0.95      0.94      0.95       279\n",
      "           WALKING       0.99      0.99      0.99       246\n",
      "WALKING_DOWNSTAIRS       0.97      0.99      0.98       192\n",
      "  WALKING_UPSTAIRS       0.99      0.96      0.98       221\n",
      "\n",
      "          accuracy                           0.97      1471\n",
      "         macro avg       0.97      0.97      0.97      1471\n",
      "      weighted avg       0.97      0.97      0.97      1471\n",
      "\n"
     ]
    }
   ],
   "source": [
    "xgb = XGBClassifier(n_estimators = 7 , max_depth = 2 , learning_rate = 1 , num_parallel_tree = 1)\n",
    "xgb.fit(x_train , y_train_encoded)\n",
    "xgb.score(x_val , y_val_encoded)\n",
    "xgb_report = classification_report(label_encoder.inverse_transform(xgb.predict(x_val)) , label_encoder.inverse_transform(y_val_encoded))\n",
    "print(xgb_report)"
   ]
  },
  {
   "cell_type": "code",
   "execution_count": 26,
   "metadata": {},
   "outputs": [
    {
     "name": "stdout",
     "output_type": "stream",
     "text": [
      "                    precision    recall  f1-score   support\n",
      "\n",
      "            LAYING       1.00      1.00      1.00      1125\n",
      "           SITTING       0.94      0.95      0.95      1019\n",
      "          STANDING       0.96      0.95      0.95      1110\n",
      "           WALKING       0.99      0.99      0.99       977\n",
      "WALKING_DOWNSTAIRS       0.99      0.99      0.99       788\n",
      "  WALKING_UPSTAIRS       0.99      0.99      0.99       862\n",
      "\n",
      "          accuracy                           0.98      5881\n",
      "         macro avg       0.98      0.98      0.98      5881\n",
      "      weighted avg       0.98      0.98      0.98      5881\n",
      "\n"
     ]
    }
   ],
   "source": [
    "xgb_train_report = classification_report(label_encoder.inverse_transform(xgb.predict(x_train)) , label_encoder.inverse_transform(y_train_encoded))\n",
    "print(xgb_train_report)"
   ]
  },
  {
   "cell_type": "code",
   "execution_count": 27,
   "metadata": {},
   "outputs": [
    {
     "name": "stdout",
     "output_type": "stream",
     "text": [
      "                    precision    recall  f1-score   support\n",
      "\n",
      "            LAYING       1.00      1.00      1.00       537\n",
      "           SITTING       0.85      0.88      0.86       474\n",
      "          STANDING       0.89      0.87      0.88       545\n",
      "           WALKING       0.97      0.89      0.93       540\n",
      "WALKING_DOWNSTAIRS       0.86      0.95      0.90       378\n",
      "  WALKING_UPSTAIRS       0.91      0.90      0.90       473\n",
      "\n",
      "          accuracy                           0.91      2947\n",
      "         macro avg       0.91      0.92      0.91      2947\n",
      "      weighted avg       0.92      0.91      0.91      2947\n",
      "\n"
     ]
    }
   ],
   "source": [
    "xgb_test_report = classification_report(label_encoder.inverse_transform(xgb.predict(x_test_scaled)) , label_encoder.inverse_transform(y_test_encoded))\n",
    "print(xgb_test_report)"
   ]
  },
  {
   "cell_type": "code",
   "execution_count": 28,
   "metadata": {},
   "outputs": [
    {
     "name": "stdout",
     "output_type": "stream",
     "text": [
      "11050\n"
     ]
    }
   ],
   "source": [
    "with open(os.getcwd().replace('/notebook' , '') + \"/model/xgb_model.py\" , \"w\") as f:\n",
    "  f.write(m2cgen.export_to_python(xgb))\n",
    "print(os.path.getsize(os.getcwd().replace('/notebook' , '') + \"/model/xgb_model.py\" ))"
   ]
  },
  {
   "cell_type": "markdown",
   "metadata": {},
   "source": [
    "### Model Accuracy Comparision"
   ]
  },
  {
   "cell_type": "code",
   "execution_count": 28,
   "metadata": {},
   "outputs": [
    {
     "data": {
      "image/png": "[encoded data removed]",
      "text/plain": [
       "<Figure size 600x600 with 1 Axes>"
      ]
     },
     "metadata": {},
     "output_type": "display_data"
    }
   ],
   "source": [
    "# Define models and values\n",
    "models = {\n",
    "    \"Random Forest\": [0.87, 0.85, 0.84, 0.84],\n",
    "    \"Decision Tree\": [0.85, 0.86, 0.85, 0.85],\n",
    "    \"XGBoost\": [0.91, 0.92, 0.91, 0.91]\n",
    "}\n",
    "metrics = [\"Accuracy\", \"Precision\", \"Recall\", \"F1-score\"]\n",
    "\n",
    "# Convert to radians\n",
    "angles = np.linspace(0, 2 * np.pi, len(metrics), endpoint=False).tolist()\n",
    "angles += angles[:1]  # Complete the loop\n",
    "\n",
    "fig, ax = plt.subplots(figsize=(6, 6), subplot_kw=dict(polar=True))\n",
    "\n",
    "# Plot each model\n",
    "for model, values in models.items():\n",
    "    values += values[:1]  # Close the loop\n",
    "    ax.plot(angles, values, label=model, linewidth=2)\n",
    "    ax.fill(angles, values, alpha=0.25)  # Fill area\n",
    "\n",
    "ax.set_yticklabels([])\n",
    "ax.set_xticks(angles[:-1])\n",
    "ax.set_xticklabels(metrics)\n",
    "ax.legend(loc=\"upper right\", bbox_to_anchor=(1.3, 1.1))\n",
    "plt.title(\"Model Comparison - Radar Plot\")\n",
    "plt.show()"
   ]
  }
 ],
 "metadata": {
  "kernelspec": {
   "display_name": "pranit",
   "language": "python",
   "name": "python3"
  },
  "language_info": {
   "codemirror_mode": {
    "name": "ipython",
    "version": 3
   },
   "file_extension": ".py",
   "mimetype": "text/x-python",
   "name": "python",
   "nbconvert_exporter": "python",
   "pygments_lexer": "ipython3",
   "version": "3.12.8"
  }
 },
 "nbformat": 4,
 "nbformat_minor": 2
}
